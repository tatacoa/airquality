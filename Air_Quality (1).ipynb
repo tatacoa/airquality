{
 "cells": [
  {
   "cell_type": "markdown",
   "metadata": {},
   "source": [
    "# Exploratory Data Analysis"
   ]
  },
  {
   "cell_type": "code",
   "execution_count": 40,
   "metadata": {
    "ExecuteTime": {
     "end_time": "2018-10-19T13:12:51.361193Z",
     "start_time": "2018-10-19T13:12:51.354019Z"
    }
   },
   "outputs": [],
   "source": [
    "import os\n",
    "import pandas as pd\n",
    "import numpy as np\n",
    "import matplotlib.pyplot as plt\n",
    "import pylab\n",
    "import seaborn as sns\n",
    "plt.style.use('fivethirtyeight')\n",
    "%matplotlib inline\n",
    "pylab.rcParams['figure.figsize'] = (10.0, 8.0)\n",
    "\n",
    "# Supress unnecessary warnings so that presentation looks clean\n",
    "import warnings\n",
    "warnings.filterwarnings(\"ignore\")"
   ]
  },
  {
   "cell_type": "markdown",
   "metadata": {},
   "source": [
    "Set working directory"
   ]
  },
  {
   "cell_type": "code",
   "execution_count": 2,
   "metadata": {
    "ExecuteTime": {
     "end_time": "2018-10-19T13:05:31.380860Z",
     "start_time": "2018-10-19T13:05:31.376784Z"
    }
   },
   "outputs": [
    {
     "name": "stdout",
     "output_type": "stream",
     "text": [
      "/home/nbuser/Untitled Folder 1\n",
      "/home/nbuser/Untitled Folder 1\n"
     ]
    }
   ],
   "source": [
    "print(os.getcwd())\n",
    "#os.chdir('C:\\\\Users\\\\asandovaljim\\\\Documents\\\\PythonScripts')\n",
    "print(os.getcwd())"
   ]
  },
  {
   "cell_type": "markdown",
   "metadata": {},
   "source": [
    "# Load the data data\n",
    "\n",
    "## File descriptions\n",
    "train.csv - the training set\n",
    "\n",
    "test.csv - the test set\n",
    "\n",
    "sample_submission.csv - a sample submission file in the correct format\n",
    "\n",
    "regions.csv - mapping from region codes to names\n",
    "\n",
    "## Data fields\n",
    "Id - a unique id\n",
    "\n",
    "region - an identifier of a region in England\n",
    "\n",
    "O3 mean - ozone, daily average computed for a particular region \n",
    "\n",
    "PM10 mean - particulate matter 10 micrometers or less in diameter, daily average\n",
    "\n",
    "PM25 mean - particulate matter 2.5 micrometers or less in diameter, daily average\n",
    "\n",
    "NO2 mean - nitrogen dioxide, daily average\n",
    "\n",
    "Temperature mean - Temperature at 2 m, daily average\n",
    "\n",
    "mortality rate - number of of deaths per 100000 people. This variable is missing in the test - your goal is to predict its value!"
   ]
  },
  {
   "cell_type": "code",
   "execution_count": 3,
   "metadata": {
    "ExecuteTime": {
     "end_time": "2018-10-19T13:05:41.334011Z",
     "start_time": "2018-10-19T13:05:41.314121Z"
    }
   },
   "outputs": [
    {
     "data": {
      "text/html": [
       "<div>\n",
       "<style scoped>\n",
       "    .dataframe tbody tr th:only-of-type {\n",
       "        vertical-align: middle;\n",
       "    }\n",
       "\n",
       "    .dataframe tbody tr th {\n",
       "        vertical-align: top;\n",
       "    }\n",
       "\n",
       "    .dataframe thead th {\n",
       "        text-align: right;\n",
       "    }\n",
       "</style>\n",
       "<table border=\"1\" class=\"dataframe\">\n",
       "  <thead>\n",
       "    <tr style=\"text-align: right;\">\n",
       "      <th></th>\n",
       "      <th>Code</th>\n",
       "      <th>Region</th>\n",
       "    </tr>\n",
       "  </thead>\n",
       "  <tbody>\n",
       "    <tr>\n",
       "      <th>0</th>\n",
       "      <td>E12000001</td>\n",
       "      <td>North East</td>\n",
       "    </tr>\n",
       "    <tr>\n",
       "      <th>1</th>\n",
       "      <td>E12000002</td>\n",
       "      <td>North West</td>\n",
       "    </tr>\n",
       "    <tr>\n",
       "      <th>2</th>\n",
       "      <td>E12000003</td>\n",
       "      <td>Yorkshire and The Humber</td>\n",
       "    </tr>\n",
       "    <tr>\n",
       "      <th>3</th>\n",
       "      <td>E12000004</td>\n",
       "      <td>East Midlands</td>\n",
       "    </tr>\n",
       "    <tr>\n",
       "      <th>4</th>\n",
       "      <td>E12000005</td>\n",
       "      <td>West Midlands</td>\n",
       "    </tr>\n",
       "    <tr>\n",
       "      <th>5</th>\n",
       "      <td>E12000006</td>\n",
       "      <td>East of England</td>\n",
       "    </tr>\n",
       "    <tr>\n",
       "      <th>6</th>\n",
       "      <td>E12000007</td>\n",
       "      <td>London</td>\n",
       "    </tr>\n",
       "    <tr>\n",
       "      <th>7</th>\n",
       "      <td>E12000008</td>\n",
       "      <td>South East</td>\n",
       "    </tr>\n",
       "    <tr>\n",
       "      <th>8</th>\n",
       "      <td>E12000009</td>\n",
       "      <td>South West</td>\n",
       "    </tr>\n",
       "  </tbody>\n",
       "</table>\n",
       "</div>"
      ],
      "text/plain": [
       "        Code                    Region\n",
       "0  E12000001                North East\n",
       "1  E12000002                North West\n",
       "2  E12000003  Yorkshire and The Humber\n",
       "3  E12000004             East Midlands\n",
       "4  E12000005             West Midlands\n",
       "5  E12000006           East of England\n",
       "6  E12000007                    London\n",
       "7  E12000008                South East\n",
       "8  E12000009                South West"
      ]
     },
     "execution_count": 3,
     "metadata": {},
     "output_type": "execute_result"
    }
   ],
   "source": [
    "# Load data \n",
    "regions = pd.read_csv('regions.csv')\n",
    "#regions = regions.drop(columns=['Unnamed: 0'])\n",
    "regions.head(10)\n",
    "\n"
   ]
  },
  {
   "cell_type": "code",
   "execution_count": 4,
   "metadata": {
    "ExecuteTime": {
     "end_time": "2018-10-19T13:05:45.169660Z",
     "start_time": "2018-10-19T13:05:45.159024Z"
    }
   },
   "outputs": [
    {
     "data": {
      "text/html": [
       "<div>\n",
       "<style scoped>\n",
       "    .dataframe tbody tr th:only-of-type {\n",
       "        vertical-align: middle;\n",
       "    }\n",
       "\n",
       "    .dataframe tbody tr th {\n",
       "        vertical-align: top;\n",
       "    }\n",
       "\n",
       "    .dataframe thead th {\n",
       "        text-align: right;\n",
       "    }\n",
       "</style>\n",
       "<table border=\"1\" class=\"dataframe\">\n",
       "  <thead>\n",
       "    <tr style=\"text-align: right;\">\n",
       "      <th></th>\n",
       "      <th>Id</th>\n",
       "      <th>mortality_rate</th>\n",
       "    </tr>\n",
       "  </thead>\n",
       "  <tbody>\n",
       "    <tr>\n",
       "      <th>0</th>\n",
       "      <td>18404</td>\n",
       "      <td>0</td>\n",
       "    </tr>\n",
       "    <tr>\n",
       "      <th>1</th>\n",
       "      <td>18405</td>\n",
       "      <td>0</td>\n",
       "    </tr>\n",
       "    <tr>\n",
       "      <th>2</th>\n",
       "      <td>18406</td>\n",
       "      <td>0</td>\n",
       "    </tr>\n",
       "    <tr>\n",
       "      <th>3</th>\n",
       "      <td>18407</td>\n",
       "      <td>0</td>\n",
       "    </tr>\n",
       "    <tr>\n",
       "      <th>4</th>\n",
       "      <td>18408</td>\n",
       "      <td>0</td>\n",
       "    </tr>\n",
       "    <tr>\n",
       "      <th>5</th>\n",
       "      <td>18409</td>\n",
       "      <td>0</td>\n",
       "    </tr>\n",
       "    <tr>\n",
       "      <th>6</th>\n",
       "      <td>18410</td>\n",
       "      <td>0</td>\n",
       "    </tr>\n",
       "    <tr>\n",
       "      <th>7</th>\n",
       "      <td>18411</td>\n",
       "      <td>0</td>\n",
       "    </tr>\n",
       "    <tr>\n",
       "      <th>8</th>\n",
       "      <td>18412</td>\n",
       "      <td>0</td>\n",
       "    </tr>\n",
       "    <tr>\n",
       "      <th>9</th>\n",
       "      <td>18413</td>\n",
       "      <td>0</td>\n",
       "    </tr>\n",
       "  </tbody>\n",
       "</table>\n",
       "</div>"
      ],
      "text/plain": [
       "      Id  mortality_rate\n",
       "0  18404               0\n",
       "1  18405               0\n",
       "2  18406               0\n",
       "3  18407               0\n",
       "4  18408               0\n",
       "5  18409               0\n",
       "6  18410               0\n",
       "7  18411               0\n",
       "8  18412               0\n",
       "9  18413               0"
      ]
     },
     "execution_count": 4,
     "metadata": {},
     "output_type": "execute_result"
    }
   ],
   "source": [
    "# Load data \n",
    "sample_submission = pd.read_csv('sample_submission.csv')\n",
    "#sample_submission = sample_submission.drop(columns=['Unnamed: 0'])\n",
    "sample_submission.head(10)"
   ]
  },
  {
   "cell_type": "code",
   "execution_count": 5,
   "metadata": {
    "ExecuteTime": {
     "end_time": "2018-10-19T13:05:48.490658Z",
     "start_time": "2018-10-19T13:05:48.465866Z"
    }
   },
   "outputs": [
    {
     "data": {
      "text/html": [
       "<div>\n",
       "<style scoped>\n",
       "    .dataframe tbody tr th:only-of-type {\n",
       "        vertical-align: middle;\n",
       "    }\n",
       "\n",
       "    .dataframe tbody tr th {\n",
       "        vertical-align: top;\n",
       "    }\n",
       "\n",
       "    .dataframe thead th {\n",
       "        text-align: right;\n",
       "    }\n",
       "</style>\n",
       "<table border=\"1\" class=\"dataframe\">\n",
       "  <thead>\n",
       "    <tr style=\"text-align: right;\">\n",
       "      <th></th>\n",
       "      <th>Id</th>\n",
       "      <th>region</th>\n",
       "      <th>date</th>\n",
       "      <th>O3</th>\n",
       "      <th>PM10</th>\n",
       "      <th>PM25</th>\n",
       "      <th>NO2</th>\n",
       "      <th>T2M</th>\n",
       "    </tr>\n",
       "  </thead>\n",
       "  <tbody>\n",
       "    <tr>\n",
       "      <th>0</th>\n",
       "      <td>18404</td>\n",
       "      <td>E12000006</td>\n",
       "      <td>2012-05-28</td>\n",
       "      <td>75.980</td>\n",
       "      <td>20.876</td>\n",
       "      <td>19.123</td>\n",
       "      <td>9.713</td>\n",
       "      <td>290.787</td>\n",
       "    </tr>\n",
       "    <tr>\n",
       "      <th>1</th>\n",
       "      <td>18405</td>\n",
       "      <td>E12000006</td>\n",
       "      <td>2012-05-29</td>\n",
       "      <td>73.084</td>\n",
       "      <td>21.660</td>\n",
       "      <td>17.794</td>\n",
       "      <td>8.417</td>\n",
       "      <td>288.474</td>\n",
       "    </tr>\n",
       "    <tr>\n",
       "      <th>2</th>\n",
       "      <td>18406</td>\n",
       "      <td>E12000006</td>\n",
       "      <td>2012-05-30</td>\n",
       "      <td>59.350</td>\n",
       "      <td>21.925</td>\n",
       "      <td>17.699</td>\n",
       "      <td>10.878</td>\n",
       "      <td>289.889</td>\n",
       "    </tr>\n",
       "    <tr>\n",
       "      <th>3</th>\n",
       "      <td>18407</td>\n",
       "      <td>E12000006</td>\n",
       "      <td>2012-05-31</td>\n",
       "      <td>45.991</td>\n",
       "      <td>14.549</td>\n",
       "      <td>11.386</td>\n",
       "      <td>10.302</td>\n",
       "      <td>287.815</td>\n",
       "    </tr>\n",
       "    <tr>\n",
       "      <th>4</th>\n",
       "      <td>18408</td>\n",
       "      <td>E12000006</td>\n",
       "      <td>2012-06-01</td>\n",
       "      <td>52.210</td>\n",
       "      <td>11.208</td>\n",
       "      <td>9.545</td>\n",
       "      <td>8.598</td>\n",
       "      <td>287.627</td>\n",
       "    </tr>\n",
       "    <tr>\n",
       "      <th>5</th>\n",
       "      <td>18409</td>\n",
       "      <td>E12000006</td>\n",
       "      <td>2012-06-02</td>\n",
       "      <td>68.120</td>\n",
       "      <td>10.118</td>\n",
       "      <td>7.838</td>\n",
       "      <td>6.656</td>\n",
       "      <td>286.108</td>\n",
       "    </tr>\n",
       "    <tr>\n",
       "      <th>6</th>\n",
       "      <td>18410</td>\n",
       "      <td>E12000006</td>\n",
       "      <td>2012-06-03</td>\n",
       "      <td>71.991</td>\n",
       "      <td>5.984</td>\n",
       "      <td>4.365</td>\n",
       "      <td>5.341</td>\n",
       "      <td>282.819</td>\n",
       "    </tr>\n",
       "    <tr>\n",
       "      <th>7</th>\n",
       "      <td>18411</td>\n",
       "      <td>E12000006</td>\n",
       "      <td>2012-06-04</td>\n",
       "      <td>60.163</td>\n",
       "      <td>6.463</td>\n",
       "      <td>3.320</td>\n",
       "      <td>3.332</td>\n",
       "      <td>282.857</td>\n",
       "    </tr>\n",
       "    <tr>\n",
       "      <th>8</th>\n",
       "      <td>18412</td>\n",
       "      <td>E12000006</td>\n",
       "      <td>2012-06-05</td>\n",
       "      <td>51.144</td>\n",
       "      <td>11.273</td>\n",
       "      <td>7.904</td>\n",
       "      <td>10.263</td>\n",
       "      <td>284.485</td>\n",
       "    </tr>\n",
       "    <tr>\n",
       "      <th>9</th>\n",
       "      <td>18413</td>\n",
       "      <td>E12000006</td>\n",
       "      <td>2012-06-06</td>\n",
       "      <td>49.828</td>\n",
       "      <td>8.477</td>\n",
       "      <td>6.131</td>\n",
       "      <td>9.648</td>\n",
       "      <td>287.300</td>\n",
       "    </tr>\n",
       "  </tbody>\n",
       "</table>\n",
       "</div>"
      ],
      "text/plain": [
       "      Id     region        date      O3    PM10    PM25     NO2      T2M\n",
       "0  18404  E12000006  2012-05-28  75.980  20.876  19.123   9.713  290.787\n",
       "1  18405  E12000006  2012-05-29  73.084  21.660  17.794   8.417  288.474\n",
       "2  18406  E12000006  2012-05-30  59.350  21.925  17.699  10.878  289.889\n",
       "3  18407  E12000006  2012-05-31  45.991  14.549  11.386  10.302  287.815\n",
       "4  18408  E12000006  2012-06-01  52.210  11.208   9.545   8.598  287.627\n",
       "5  18409  E12000006  2012-06-02  68.120  10.118   7.838   6.656  286.108\n",
       "6  18410  E12000006  2012-06-03  71.991   5.984   4.365   5.341  282.819\n",
       "7  18411  E12000006  2012-06-04  60.163   6.463   3.320   3.332  282.857\n",
       "8  18412  E12000006  2012-06-05  51.144  11.273   7.904  10.263  284.485\n",
       "9  18413  E12000006  2012-06-06  49.828   8.477   6.131   9.648  287.300"
      ]
     },
     "execution_count": 5,
     "metadata": {},
     "output_type": "execute_result"
    }
   ],
   "source": [
    "# Load data \n",
    "test = pd.read_csv('test.csv')\n",
    "#test = test.drop(columns=['Unnamed: 0'])\n",
    "test.head(10)"
   ]
  },
  {
   "cell_type": "code",
   "execution_count": 6,
   "metadata": {
    "ExecuteTime": {
     "end_time": "2018-10-19T13:05:51.357386Z",
     "start_time": "2018-10-19T13:05:51.319017Z"
    }
   },
   "outputs": [
    {
     "data": {
      "text/html": [
       "<div>\n",
       "<style scoped>\n",
       "    .dataframe tbody tr th:only-of-type {\n",
       "        vertical-align: middle;\n",
       "    }\n",
       "\n",
       "    .dataframe tbody tr th {\n",
       "        vertical-align: top;\n",
       "    }\n",
       "\n",
       "    .dataframe thead th {\n",
       "        text-align: right;\n",
       "    }\n",
       "</style>\n",
       "<table border=\"1\" class=\"dataframe\">\n",
       "  <thead>\n",
       "    <tr style=\"text-align: right;\">\n",
       "      <th></th>\n",
       "      <th>Id</th>\n",
       "      <th>region</th>\n",
       "      <th>date</th>\n",
       "      <th>mortality_rate</th>\n",
       "      <th>O3</th>\n",
       "      <th>PM10</th>\n",
       "      <th>PM25</th>\n",
       "      <th>NO2</th>\n",
       "      <th>T2M</th>\n",
       "    </tr>\n",
       "  </thead>\n",
       "  <tbody>\n",
       "    <tr>\n",
       "      <th>0</th>\n",
       "      <td>1</td>\n",
       "      <td>E12000001</td>\n",
       "      <td>2007-01-02</td>\n",
       "      <td>2.264</td>\n",
       "      <td>42.358</td>\n",
       "      <td>9.021</td>\n",
       "      <td>NaN</td>\n",
       "      <td>NaN</td>\n",
       "      <td>278.138</td>\n",
       "    </tr>\n",
       "    <tr>\n",
       "      <th>1</th>\n",
       "      <td>2</td>\n",
       "      <td>E12000001</td>\n",
       "      <td>2007-01-03</td>\n",
       "      <td>2.030</td>\n",
       "      <td>49.506</td>\n",
       "      <td>5.256</td>\n",
       "      <td>NaN</td>\n",
       "      <td>NaN</td>\n",
       "      <td>281.745</td>\n",
       "    </tr>\n",
       "    <tr>\n",
       "      <th>2</th>\n",
       "      <td>3</td>\n",
       "      <td>E12000001</td>\n",
       "      <td>2007-01-04</td>\n",
       "      <td>1.874</td>\n",
       "      <td>51.101</td>\n",
       "      <td>4.946</td>\n",
       "      <td>NaN</td>\n",
       "      <td>NaN</td>\n",
       "      <td>280.523</td>\n",
       "    </tr>\n",
       "    <tr>\n",
       "      <th>3</th>\n",
       "      <td>4</td>\n",
       "      <td>E12000001</td>\n",
       "      <td>2007-01-05</td>\n",
       "      <td>2.069</td>\n",
       "      <td>47.478</td>\n",
       "      <td>6.823</td>\n",
       "      <td>NaN</td>\n",
       "      <td>NaN</td>\n",
       "      <td>280.421</td>\n",
       "    </tr>\n",
       "    <tr>\n",
       "      <th>4</th>\n",
       "      <td>5</td>\n",
       "      <td>E12000001</td>\n",
       "      <td>2007-01-06</td>\n",
       "      <td>1.913</td>\n",
       "      <td>45.226</td>\n",
       "      <td>7.532</td>\n",
       "      <td>NaN</td>\n",
       "      <td>NaN</td>\n",
       "      <td>278.961</td>\n",
       "    </tr>\n",
       "    <tr>\n",
       "      <th>5</th>\n",
       "      <td>6</td>\n",
       "      <td>E12000001</td>\n",
       "      <td>2007-01-07</td>\n",
       "      <td>1.756</td>\n",
       "      <td>53.226</td>\n",
       "      <td>5.607</td>\n",
       "      <td>NaN</td>\n",
       "      <td>NaN</td>\n",
       "      <td>281.504</td>\n",
       "    </tr>\n",
       "    <tr>\n",
       "      <th>6</th>\n",
       "      <td>7</td>\n",
       "      <td>E12000001</td>\n",
       "      <td>2007-01-08</td>\n",
       "      <td>1.756</td>\n",
       "      <td>48.177</td>\n",
       "      <td>4.674</td>\n",
       "      <td>NaN</td>\n",
       "      <td>NaN</td>\n",
       "      <td>279.519</td>\n",
       "    </tr>\n",
       "    <tr>\n",
       "      <th>7</th>\n",
       "      <td>8</td>\n",
       "      <td>E12000001</td>\n",
       "      <td>2007-01-09</td>\n",
       "      <td>2.147</td>\n",
       "      <td>56.917</td>\n",
       "      <td>5.979</td>\n",
       "      <td>NaN</td>\n",
       "      <td>NaN</td>\n",
       "      <td>281.866</td>\n",
       "    </tr>\n",
       "    <tr>\n",
       "      <th>8</th>\n",
       "      <td>9</td>\n",
       "      <td>E12000001</td>\n",
       "      <td>2007-01-10</td>\n",
       "      <td>2.186</td>\n",
       "      <td>45.757</td>\n",
       "      <td>3.433</td>\n",
       "      <td>NaN</td>\n",
       "      <td>NaN</td>\n",
       "      <td>278.044</td>\n",
       "    </tr>\n",
       "    <tr>\n",
       "      <th>9</th>\n",
       "      <td>10</td>\n",
       "      <td>E12000001</td>\n",
       "      <td>2007-01-11</td>\n",
       "      <td>1.249</td>\n",
       "      <td>56.388</td>\n",
       "      <td>6.159</td>\n",
       "      <td>NaN</td>\n",
       "      <td>NaN</td>\n",
       "      <td>280.358</td>\n",
       "    </tr>\n",
       "  </tbody>\n",
       "</table>\n",
       "</div>"
      ],
      "text/plain": [
       "   Id     region        date  mortality_rate      O3   PM10  PM25  NO2  \\\n",
       "0   1  E12000001  2007-01-02           2.264  42.358  9.021   NaN  NaN   \n",
       "1   2  E12000001  2007-01-03           2.030  49.506  5.256   NaN  NaN   \n",
       "2   3  E12000001  2007-01-04           1.874  51.101  4.946   NaN  NaN   \n",
       "3   4  E12000001  2007-01-05           2.069  47.478  6.823   NaN  NaN   \n",
       "4   5  E12000001  2007-01-06           1.913  45.226  7.532   NaN  NaN   \n",
       "5   6  E12000001  2007-01-07           1.756  53.226  5.607   NaN  NaN   \n",
       "6   7  E12000001  2007-01-08           1.756  48.177  4.674   NaN  NaN   \n",
       "7   8  E12000001  2007-01-09           2.147  56.917  5.979   NaN  NaN   \n",
       "8   9  E12000001  2007-01-10           2.186  45.757  3.433   NaN  NaN   \n",
       "9  10  E12000001  2007-01-11           1.249  56.388  6.159   NaN  NaN   \n",
       "\n",
       "       T2M  \n",
       "0  278.138  \n",
       "1  281.745  \n",
       "2  280.523  \n",
       "3  280.421  \n",
       "4  278.961  \n",
       "5  281.504  \n",
       "6  279.519  \n",
       "7  281.866  \n",
       "8  278.044  \n",
       "9  280.358  "
      ]
     },
     "execution_count": 6,
     "metadata": {},
     "output_type": "execute_result"
    }
   ],
   "source": [
    "# Load data \n",
    "train = pd.read_csv('train.csv')\n",
    "#train = train.drop(columns=['Unnamed: 0'])\n",
    "train.head(10)"
   ]
  },
  {
   "cell_type": "markdown",
   "metadata": {},
   "source": [
    "Dimensions of the datasets:"
   ]
  },
  {
   "cell_type": "code",
   "execution_count": 7,
   "metadata": {
    "ExecuteTime": {
     "end_time": "2018-10-19T13:05:54.679313Z",
     "start_time": "2018-10-19T13:05:54.675038Z"
    }
   },
   "outputs": [
    {
     "name": "stdout",
     "output_type": "stream",
     "text": [
      "Size Regions (9, 2)\n",
      "Size Sample Submission (7886, 2)\n",
      "Size Test (7886, 8)\n",
      "Size Train (18403, 9)\n"
     ]
    }
   ],
   "source": [
    "# shape of the data\n",
    "print(\"Size Regions\", regions.shape)\n",
    "print(\"Size Sample Submission\", sample_submission.shape)\n",
    "print(\"Size Test\", test.shape)\n",
    "print(\"Size Train\", train.shape)"
   ]
  },
  {
   "cell_type": "markdown",
   "metadata": {},
   "source": [
    "## Descriptive Overview of the data"
   ]
  },
  {
   "cell_type": "markdown",
   "metadata": {},
   "source": [
    "## Numerical Data "
   ]
  },
  {
   "cell_type": "code",
   "execution_count": 8,
   "metadata": {
    "ExecuteTime": {
     "end_time": "2018-10-19T13:06:00.462691Z",
     "start_time": "2018-10-19T13:06:00.446136Z"
    }
   },
   "outputs": [
    {
     "data": {
      "text/html": [
       "<div>\n",
       "<style scoped>\n",
       "    .dataframe tbody tr th:only-of-type {\n",
       "        vertical-align: middle;\n",
       "    }\n",
       "\n",
       "    .dataframe tbody tr th {\n",
       "        vertical-align: top;\n",
       "    }\n",
       "\n",
       "    .dataframe thead th {\n",
       "        text-align: right;\n",
       "    }\n",
       "</style>\n",
       "<table border=\"1\" class=\"dataframe\">\n",
       "  <thead>\n",
       "    <tr style=\"text-align: right;\">\n",
       "      <th></th>\n",
       "      <th>Code</th>\n",
       "      <th>Region</th>\n",
       "    </tr>\n",
       "  </thead>\n",
       "  <tbody>\n",
       "    <tr>\n",
       "      <th>count</th>\n",
       "      <td>9</td>\n",
       "      <td>9</td>\n",
       "    </tr>\n",
       "    <tr>\n",
       "      <th>unique</th>\n",
       "      <td>9</td>\n",
       "      <td>9</td>\n",
       "    </tr>\n",
       "    <tr>\n",
       "      <th>top</th>\n",
       "      <td>E12000003</td>\n",
       "      <td>London</td>\n",
       "    </tr>\n",
       "    <tr>\n",
       "      <th>freq</th>\n",
       "      <td>1</td>\n",
       "      <td>1</td>\n",
       "    </tr>\n",
       "  </tbody>\n",
       "</table>\n",
       "</div>"
      ],
      "text/plain": [
       "             Code  Region\n",
       "count           9       9\n",
       "unique          9       9\n",
       "top     E12000003  London\n",
       "freq            1       1"
      ]
     },
     "execution_count": 8,
     "metadata": {},
     "output_type": "execute_result"
    }
   ],
   "source": [
    "# for numerical features\n",
    "regions.describe()"
   ]
  },
  {
   "cell_type": "code",
   "execution_count": 12,
   "metadata": {
    "ExecuteTime": {
     "end_time": "2018-10-19T13:06:37.235603Z",
     "start_time": "2018-10-19T13:06:37.215873Z"
    }
   },
   "outputs": [
    {
     "data": {
      "text/html": [
       "<div>\n",
       "<style scoped>\n",
       "    .dataframe tbody tr th:only-of-type {\n",
       "        vertical-align: middle;\n",
       "    }\n",
       "\n",
       "    .dataframe tbody tr th {\n",
       "        vertical-align: top;\n",
       "    }\n",
       "\n",
       "    .dataframe thead th {\n",
       "        text-align: right;\n",
       "    }\n",
       "</style>\n",
       "<table border=\"1\" class=\"dataframe\">\n",
       "  <thead>\n",
       "    <tr style=\"text-align: right;\">\n",
       "      <th></th>\n",
       "      <th>Id</th>\n",
       "      <th>mortality_rate</th>\n",
       "    </tr>\n",
       "  </thead>\n",
       "  <tbody>\n",
       "    <tr>\n",
       "      <th>count</th>\n",
       "      <td>7886.00</td>\n",
       "      <td>7886.0</td>\n",
       "    </tr>\n",
       "    <tr>\n",
       "      <th>mean</th>\n",
       "      <td>22346.50</td>\n",
       "      <td>0.0</td>\n",
       "    </tr>\n",
       "    <tr>\n",
       "      <th>std</th>\n",
       "      <td>2276.64</td>\n",
       "      <td>0.0</td>\n",
       "    </tr>\n",
       "    <tr>\n",
       "      <th>min</th>\n",
       "      <td>18404.00</td>\n",
       "      <td>0.0</td>\n",
       "    </tr>\n",
       "    <tr>\n",
       "      <th>25%</th>\n",
       "      <td>20375.25</td>\n",
       "      <td>0.0</td>\n",
       "    </tr>\n",
       "    <tr>\n",
       "      <th>50%</th>\n",
       "      <td>22346.50</td>\n",
       "      <td>0.0</td>\n",
       "    </tr>\n",
       "    <tr>\n",
       "      <th>75%</th>\n",
       "      <td>24317.75</td>\n",
       "      <td>0.0</td>\n",
       "    </tr>\n",
       "    <tr>\n",
       "      <th>max</th>\n",
       "      <td>26289.00</td>\n",
       "      <td>0.0</td>\n",
       "    </tr>\n",
       "  </tbody>\n",
       "</table>\n",
       "</div>"
      ],
      "text/plain": [
       "             Id  mortality_rate\n",
       "count   7886.00          7886.0\n",
       "mean   22346.50             0.0\n",
       "std     2276.64             0.0\n",
       "min    18404.00             0.0\n",
       "25%    20375.25             0.0\n",
       "50%    22346.50             0.0\n",
       "75%    24317.75             0.0\n",
       "max    26289.00             0.0"
      ]
     },
     "execution_count": 12,
     "metadata": {},
     "output_type": "execute_result"
    }
   ],
   "source": [
    "# for numerical features\n",
    "round(sample_submission.describe(),2)"
   ]
  },
  {
   "cell_type": "code",
   "execution_count": 11,
   "metadata": {
    "ExecuteTime": {
     "end_time": "2018-10-19T13:06:21.968475Z",
     "start_time": "2018-10-19T13:06:21.935378Z"
    }
   },
   "outputs": [
    {
     "data": {
      "text/html": [
       "<div>\n",
       "<style scoped>\n",
       "    .dataframe tbody tr th:only-of-type {\n",
       "        vertical-align: middle;\n",
       "    }\n",
       "\n",
       "    .dataframe tbody tr th {\n",
       "        vertical-align: top;\n",
       "    }\n",
       "\n",
       "    .dataframe thead th {\n",
       "        text-align: right;\n",
       "    }\n",
       "</style>\n",
       "<table border=\"1\" class=\"dataframe\">\n",
       "  <thead>\n",
       "    <tr style=\"text-align: right;\">\n",
       "      <th></th>\n",
       "      <th>Id</th>\n",
       "      <th>O3</th>\n",
       "      <th>PM10</th>\n",
       "      <th>PM25</th>\n",
       "      <th>NO2</th>\n",
       "      <th>T2M</th>\n",
       "    </tr>\n",
       "  </thead>\n",
       "  <tbody>\n",
       "    <tr>\n",
       "      <th>count</th>\n",
       "      <td>7886.00</td>\n",
       "      <td>7886.00</td>\n",
       "      <td>7886.00</td>\n",
       "      <td>7886.00</td>\n",
       "      <td>7886.00</td>\n",
       "      <td>7886.00</td>\n",
       "    </tr>\n",
       "    <tr>\n",
       "      <th>mean</th>\n",
       "      <td>22346.50</td>\n",
       "      <td>49.53</td>\n",
       "      <td>14.55</td>\n",
       "      <td>8.75</td>\n",
       "      <td>13.14</td>\n",
       "      <td>283.41</td>\n",
       "    </tr>\n",
       "    <tr>\n",
       "      <th>std</th>\n",
       "      <td>2276.64</td>\n",
       "      <td>16.09</td>\n",
       "      <td>7.66</td>\n",
       "      <td>6.44</td>\n",
       "      <td>8.85</td>\n",
       "      <td>5.27</td>\n",
       "    </tr>\n",
       "    <tr>\n",
       "      <th>min</th>\n",
       "      <td>18404.00</td>\n",
       "      <td>1.56</td>\n",
       "      <td>2.51</td>\n",
       "      <td>0.85</td>\n",
       "      <td>1.39</td>\n",
       "      <td>268.70</td>\n",
       "    </tr>\n",
       "    <tr>\n",
       "      <th>25%</th>\n",
       "      <td>20375.25</td>\n",
       "      <td>39.84</td>\n",
       "      <td>9.47</td>\n",
       "      <td>4.62</td>\n",
       "      <td>6.73</td>\n",
       "      <td>279.46</td>\n",
       "    </tr>\n",
       "    <tr>\n",
       "      <th>50%</th>\n",
       "      <td>22346.50</td>\n",
       "      <td>50.94</td>\n",
       "      <td>12.36</td>\n",
       "      <td>6.81</td>\n",
       "      <td>10.63</td>\n",
       "      <td>283.52</td>\n",
       "    </tr>\n",
       "    <tr>\n",
       "      <th>75%</th>\n",
       "      <td>24317.75</td>\n",
       "      <td>60.38</td>\n",
       "      <td>17.35</td>\n",
       "      <td>10.87</td>\n",
       "      <td>16.86</td>\n",
       "      <td>287.71</td>\n",
       "    </tr>\n",
       "    <tr>\n",
       "      <th>max</th>\n",
       "      <td>26289.00</td>\n",
       "      <td>103.72</td>\n",
       "      <td>67.36</td>\n",
       "      <td>56.72</td>\n",
       "      <td>67.06</td>\n",
       "      <td>296.74</td>\n",
       "    </tr>\n",
       "  </tbody>\n",
       "</table>\n",
       "</div>"
      ],
      "text/plain": [
       "             Id       O3     PM10     PM25      NO2      T2M\n",
       "count   7886.00  7886.00  7886.00  7886.00  7886.00  7886.00\n",
       "mean   22346.50    49.53    14.55     8.75    13.14   283.41\n",
       "std     2276.64    16.09     7.66     6.44     8.85     5.27\n",
       "min    18404.00     1.56     2.51     0.85     1.39   268.70\n",
       "25%    20375.25    39.84     9.47     4.62     6.73   279.46\n",
       "50%    22346.50    50.94    12.36     6.81    10.63   283.52\n",
       "75%    24317.75    60.38    17.35    10.87    16.86   287.71\n",
       "max    26289.00   103.72    67.36    56.72    67.06   296.74"
      ]
     },
     "execution_count": 11,
     "metadata": {},
     "output_type": "execute_result"
    }
   ],
   "source": [
    "# for numerical features\n",
    "round(test.describe(),2)"
   ]
  },
  {
   "cell_type": "code",
   "execution_count": 13,
   "metadata": {
    "ExecuteTime": {
     "end_time": "2018-10-19T13:07:06.227732Z",
     "start_time": "2018-10-19T13:07:06.185517Z"
    }
   },
   "outputs": [
    {
     "data": {
      "text/html": [
       "<div>\n",
       "<style scoped>\n",
       "    .dataframe tbody tr th:only-of-type {\n",
       "        vertical-align: middle;\n",
       "    }\n",
       "\n",
       "    .dataframe tbody tr th {\n",
       "        vertical-align: top;\n",
       "    }\n",
       "\n",
       "    .dataframe thead th {\n",
       "        text-align: right;\n",
       "    }\n",
       "</style>\n",
       "<table border=\"1\" class=\"dataframe\">\n",
       "  <thead>\n",
       "    <tr style=\"text-align: right;\">\n",
       "      <th></th>\n",
       "      <th>Id</th>\n",
       "      <th>mortality_rate</th>\n",
       "      <th>O3</th>\n",
       "      <th>PM10</th>\n",
       "      <th>PM25</th>\n",
       "      <th>NO2</th>\n",
       "      <th>T2M</th>\n",
       "    </tr>\n",
       "  </thead>\n",
       "  <tbody>\n",
       "    <tr>\n",
       "      <th>count</th>\n",
       "      <td>18403.00</td>\n",
       "      <td>18403.00</td>\n",
       "      <td>18394.00</td>\n",
       "      <td>18394.00</td>\n",
       "      <td>15127.00</td>\n",
       "      <td>11833.00</td>\n",
       "      <td>18403.00</td>\n",
       "    </tr>\n",
       "    <tr>\n",
       "      <th>mean</th>\n",
       "      <td>9202.00</td>\n",
       "      <td>1.30</td>\n",
       "      <td>45.33</td>\n",
       "      <td>13.71</td>\n",
       "      <td>7.50</td>\n",
       "      <td>12.05</td>\n",
       "      <td>283.00</td>\n",
       "    </tr>\n",
       "    <tr>\n",
       "      <th>std</th>\n",
       "      <td>5312.63</td>\n",
       "      <td>0.30</td>\n",
       "      <td>16.22</td>\n",
       "      <td>7.42</td>\n",
       "      <td>5.76</td>\n",
       "      <td>8.30</td>\n",
       "      <td>5.18</td>\n",
       "    </tr>\n",
       "    <tr>\n",
       "      <th>min</th>\n",
       "      <td>1.00</td>\n",
       "      <td>0.44</td>\n",
       "      <td>0.99</td>\n",
       "      <td>2.02</td>\n",
       "      <td>0.90</td>\n",
       "      <td>1.10</td>\n",
       "      <td>265.56</td>\n",
       "    </tr>\n",
       "    <tr>\n",
       "      <th>25%</th>\n",
       "      <td>4601.50</td>\n",
       "      <td>1.10</td>\n",
       "      <td>35.07</td>\n",
       "      <td>8.66</td>\n",
       "      <td>3.62</td>\n",
       "      <td>6.06</td>\n",
       "      <td>279.32</td>\n",
       "    </tr>\n",
       "    <tr>\n",
       "      <th>50%</th>\n",
       "      <td>9202.00</td>\n",
       "      <td>1.28</td>\n",
       "      <td>45.84</td>\n",
       "      <td>11.70</td>\n",
       "      <td>5.64</td>\n",
       "      <td>9.77</td>\n",
       "      <td>283.27</td>\n",
       "    </tr>\n",
       "    <tr>\n",
       "      <th>75%</th>\n",
       "      <td>13802.50</td>\n",
       "      <td>1.47</td>\n",
       "      <td>55.88</td>\n",
       "      <td>16.59</td>\n",
       "      <td>9.33</td>\n",
       "      <td>15.86</td>\n",
       "      <td>287.24</td>\n",
       "    </tr>\n",
       "    <tr>\n",
       "      <th>max</th>\n",
       "      <td>18403.00</td>\n",
       "      <td>2.84</td>\n",
       "      <td>105.69</td>\n",
       "      <td>60.63</td>\n",
       "      <td>45.85</td>\n",
       "      <td>76.76</td>\n",
       "      <td>297.21</td>\n",
       "    </tr>\n",
       "  </tbody>\n",
       "</table>\n",
       "</div>"
      ],
      "text/plain": [
       "             Id  mortality_rate        O3      PM10      PM25       NO2  \\\n",
       "count  18403.00        18403.00  18394.00  18394.00  15127.00  11833.00   \n",
       "mean    9202.00            1.30     45.33     13.71      7.50     12.05   \n",
       "std     5312.63            0.30     16.22      7.42      5.76      8.30   \n",
       "min        1.00            0.44      0.99      2.02      0.90      1.10   \n",
       "25%     4601.50            1.10     35.07      8.66      3.62      6.06   \n",
       "50%     9202.00            1.28     45.84     11.70      5.64      9.77   \n",
       "75%    13802.50            1.47     55.88     16.59      9.33     15.86   \n",
       "max    18403.00            2.84    105.69     60.63     45.85     76.76   \n",
       "\n",
       "            T2M  \n",
       "count  18403.00  \n",
       "mean     283.00  \n",
       "std        5.18  \n",
       "min      265.56  \n",
       "25%      279.32  \n",
       "50%      283.27  \n",
       "75%      287.24  \n",
       "max      297.21  "
      ]
     },
     "execution_count": 13,
     "metadata": {},
     "output_type": "execute_result"
    }
   ],
   "source": [
    "# for numerical features\n",
    "round(train.describe(),2)"
   ]
  },
  {
   "cell_type": "markdown",
   "metadata": {},
   "source": [
    "## Categorical Data "
   ]
  },
  {
   "cell_type": "code",
   "execution_count": 14,
   "metadata": {
    "ExecuteTime": {
     "end_time": "2018-10-19T13:07:10.948503Z",
     "start_time": "2018-10-19T13:07:10.932717Z"
    }
   },
   "outputs": [
    {
     "data": {
      "text/html": [
       "<div>\n",
       "<style scoped>\n",
       "    .dataframe tbody tr th:only-of-type {\n",
       "        vertical-align: middle;\n",
       "    }\n",
       "\n",
       "    .dataframe tbody tr th {\n",
       "        vertical-align: top;\n",
       "    }\n",
       "\n",
       "    .dataframe thead th {\n",
       "        text-align: right;\n",
       "    }\n",
       "</style>\n",
       "<table border=\"1\" class=\"dataframe\">\n",
       "  <thead>\n",
       "    <tr style=\"text-align: right;\">\n",
       "      <th></th>\n",
       "      <th>Code</th>\n",
       "      <th>Region</th>\n",
       "    </tr>\n",
       "  </thead>\n",
       "  <tbody>\n",
       "    <tr>\n",
       "      <th>count</th>\n",
       "      <td>9</td>\n",
       "      <td>9</td>\n",
       "    </tr>\n",
       "    <tr>\n",
       "      <th>unique</th>\n",
       "      <td>9</td>\n",
       "      <td>9</td>\n",
       "    </tr>\n",
       "    <tr>\n",
       "      <th>top</th>\n",
       "      <td>E12000003</td>\n",
       "      <td>London</td>\n",
       "    </tr>\n",
       "    <tr>\n",
       "      <th>freq</th>\n",
       "      <td>1</td>\n",
       "      <td>1</td>\n",
       "    </tr>\n",
       "  </tbody>\n",
       "</table>\n",
       "</div>"
      ],
      "text/plain": [
       "             Code  Region\n",
       "count           9       9\n",
       "unique          9       9\n",
       "top     E12000003  London\n",
       "freq            1       1"
      ]
     },
     "execution_count": 14,
     "metadata": {},
     "output_type": "execute_result"
    }
   ],
   "source": [
    "# data for categorical features\n",
    "regions.describe(include=[\"O\"])"
   ]
  },
  {
   "cell_type": "code",
   "execution_count": 19,
   "metadata": {},
   "outputs": [],
   "source": [
    "# data for categorical features\n",
    "#sample_submission.describe(include=[\"O\"])"
   ]
  },
  {
   "cell_type": "code",
   "execution_count": 15,
   "metadata": {
    "ExecuteTime": {
     "end_time": "2018-10-19T13:07:27.498429Z",
     "start_time": "2018-10-19T13:07:27.479824Z"
    }
   },
   "outputs": [
    {
     "data": {
      "text/html": [
       "<div>\n",
       "<style scoped>\n",
       "    .dataframe tbody tr th:only-of-type {\n",
       "        vertical-align: middle;\n",
       "    }\n",
       "\n",
       "    .dataframe tbody tr th {\n",
       "        vertical-align: top;\n",
       "    }\n",
       "\n",
       "    .dataframe thead th {\n",
       "        text-align: right;\n",
       "    }\n",
       "</style>\n",
       "<table border=\"1\" class=\"dataframe\">\n",
       "  <thead>\n",
       "    <tr style=\"text-align: right;\">\n",
       "      <th></th>\n",
       "      <th>region</th>\n",
       "      <th>date</th>\n",
       "    </tr>\n",
       "  </thead>\n",
       "  <tbody>\n",
       "    <tr>\n",
       "      <th>count</th>\n",
       "      <td>7886</td>\n",
       "      <td>7886</td>\n",
       "    </tr>\n",
       "    <tr>\n",
       "      <th>unique</th>\n",
       "      <td>9</td>\n",
       "      <td>1096</td>\n",
       "    </tr>\n",
       "    <tr>\n",
       "      <th>top</th>\n",
       "      <td>E12000007</td>\n",
       "      <td>2013-05-28</td>\n",
       "    </tr>\n",
       "    <tr>\n",
       "      <th>freq</th>\n",
       "      <td>1096</td>\n",
       "      <td>9</td>\n",
       "    </tr>\n",
       "  </tbody>\n",
       "</table>\n",
       "</div>"
      ],
      "text/plain": [
       "           region        date\n",
       "count        7886        7886\n",
       "unique          9        1096\n",
       "top     E12000007  2013-05-28\n",
       "freq         1096           9"
      ]
     },
     "execution_count": 15,
     "metadata": {},
     "output_type": "execute_result"
    }
   ],
   "source": [
    "# data for categorical features\n",
    "test.describe(include=[\"O\"])"
   ]
  },
  {
   "cell_type": "code",
   "execution_count": 16,
   "metadata": {
    "ExecuteTime": {
     "end_time": "2018-10-19T13:07:35.342332Z",
     "start_time": "2018-10-19T13:07:35.319842Z"
    }
   },
   "outputs": [
    {
     "data": {
      "text/html": [
       "<div>\n",
       "<style scoped>\n",
       "    .dataframe tbody tr th:only-of-type {\n",
       "        vertical-align: middle;\n",
       "    }\n",
       "\n",
       "    .dataframe tbody tr th {\n",
       "        vertical-align: top;\n",
       "    }\n",
       "\n",
       "    .dataframe thead th {\n",
       "        text-align: right;\n",
       "    }\n",
       "</style>\n",
       "<table border=\"1\" class=\"dataframe\">\n",
       "  <thead>\n",
       "    <tr style=\"text-align: right;\">\n",
       "      <th></th>\n",
       "      <th>region</th>\n",
       "      <th>date</th>\n",
       "    </tr>\n",
       "  </thead>\n",
       "  <tbody>\n",
       "    <tr>\n",
       "      <th>count</th>\n",
       "      <td>18403</td>\n",
       "      <td>18403</td>\n",
       "    </tr>\n",
       "    <tr>\n",
       "      <th>unique</th>\n",
       "      <td>9</td>\n",
       "      <td>2191</td>\n",
       "    </tr>\n",
       "    <tr>\n",
       "      <th>top</th>\n",
       "      <td>E12000001</td>\n",
       "      <td>2011-02-18</td>\n",
       "    </tr>\n",
       "    <tr>\n",
       "      <th>freq</th>\n",
       "      <td>2191</td>\n",
       "      <td>9</td>\n",
       "    </tr>\n",
       "  </tbody>\n",
       "</table>\n",
       "</div>"
      ],
      "text/plain": [
       "           region        date\n",
       "count       18403       18403\n",
       "unique          9        2191\n",
       "top     E12000001  2011-02-18\n",
       "freq         2191           9"
      ]
     },
     "execution_count": 16,
     "metadata": {},
     "output_type": "execute_result"
    }
   ],
   "source": [
    "# data for categorical features\n",
    "train.describe(include=[\"O\"])"
   ]
  },
  {
   "cell_type": "markdown",
   "metadata": {},
   "source": [
    "# Data preparation"
   ]
  },
  {
   "cell_type": "markdown",
   "metadata": {},
   "source": [
    "## Checking for missing data\n"
   ]
  },
  {
   "cell_type": "code",
   "execution_count": 28,
   "metadata": {
    "ExecuteTime": {
     "end_time": "2018-10-19T13:09:33.123937Z",
     "start_time": "2018-10-19T13:09:33.119188Z"
    }
   },
   "outputs": [],
   "source": [
    "def missing_data(df, name):\n",
    "    total = df.isnull().sum().sort_values(ascending = False)\n",
    "    percent = ((df.isnull().sum()/df.isnull().count())*100).sort_values(ascending = False)\n",
    "    missing_df  = pd.concat([total, percent], axis=1, keys=['Total', 'Percent'])\n",
    "    print('Missing values:', name)\n",
    "    print(round(missing_df,2))"
   ]
  },
  {
   "cell_type": "code",
   "execution_count": 23,
   "metadata": {
    "ExecuteTime": {
     "end_time": "2018-10-19T13:08:52.615776Z",
     "start_time": "2018-10-19T13:08:52.607127Z"
    }
   },
   "outputs": [
    {
     "name": "stdout",
     "output_type": "stream",
     "text": [
      "Missing values: Regions\n",
      "        Total  Percent\n",
      "Region      0      0.0\n",
      "Code        0      0.0\n"
     ]
    }
   ],
   "source": [
    "missing_data(regions, 'Regions')"
   ]
  },
  {
   "cell_type": "code",
   "execution_count": 24,
   "metadata": {
    "ExecuteTime": {
     "end_time": "2018-10-19T13:08:55.740274Z",
     "start_time": "2018-10-19T13:08:55.730026Z"
    }
   },
   "outputs": [
    {
     "name": "stdout",
     "output_type": "stream",
     "text": [
      "Missing values: Sample Submission\n",
      "                Total  Percent\n",
      "mortality_rate      0      0.0\n",
      "Id                  0      0.0\n"
     ]
    }
   ],
   "source": [
    "missing_data(sample_submission, 'Sample Submission')"
   ]
  },
  {
   "cell_type": "code",
   "execution_count": 25,
   "metadata": {
    "ExecuteTime": {
     "end_time": "2018-10-19T13:08:57.987972Z",
     "start_time": "2018-10-19T13:08:57.972273Z"
    }
   },
   "outputs": [
    {
     "name": "stdout",
     "output_type": "stream",
     "text": [
      "Missing values: Test Data\n",
      "        Total  Percent\n",
      "T2M         0      0.0\n",
      "NO2         0      0.0\n",
      "PM25        0      0.0\n",
      "PM10        0      0.0\n",
      "O3          0      0.0\n",
      "date        0      0.0\n",
      "region      0      0.0\n",
      "Id          0      0.0\n"
     ]
    }
   ],
   "source": [
    "missing_data(test, 'Test Data')"
   ]
  },
  {
   "cell_type": "code",
   "execution_count": 29,
   "metadata": {
    "ExecuteTime": {
     "end_time": "2018-10-19T13:09:36.840968Z",
     "start_time": "2018-10-19T13:09:36.815953Z"
    }
   },
   "outputs": [
    {
     "name": "stdout",
     "output_type": "stream",
     "text": [
      "Missing values: Train Data\n",
      "                Total  Percent\n",
      "NO2              6570    35.70\n",
      "PM25             3276    17.80\n",
      "PM10                9     0.05\n",
      "O3                  9     0.05\n",
      "T2M                 0     0.00\n",
      "mortality_rate      0     0.00\n",
      "date                0     0.00\n",
      "region              0     0.00\n",
      "Id                  0     0.00\n"
     ]
    }
   ],
   "source": [
    "missing_data(train, 'Train Data')"
   ]
  },
  {
   "cell_type": "code",
   "execution_count": 30,
   "metadata": {
    "ExecuteTime": {
     "end_time": "2018-10-19T13:09:45.488644Z",
     "start_time": "2018-10-19T13:09:45.473965Z"
    }
   },
   "outputs": [
    {
     "data": {
      "text/html": [
       "<div>\n",
       "<style scoped>\n",
       "    .dataframe tbody tr th:only-of-type {\n",
       "        vertical-align: middle;\n",
       "    }\n",
       "\n",
       "    .dataframe tbody tr th {\n",
       "        vertical-align: top;\n",
       "    }\n",
       "\n",
       "    .dataframe thead th {\n",
       "        text-align: right;\n",
       "    }\n",
       "</style>\n",
       "<table border=\"1\" class=\"dataframe\">\n",
       "  <thead>\n",
       "    <tr style=\"text-align: right;\">\n",
       "      <th></th>\n",
       "      <th>Code</th>\n",
       "      <th>Region</th>\n",
       "    </tr>\n",
       "  </thead>\n",
       "  <tbody>\n",
       "    <tr>\n",
       "      <th>count</th>\n",
       "      <td>9</td>\n",
       "      <td>9</td>\n",
       "    </tr>\n",
       "    <tr>\n",
       "      <th>unique</th>\n",
       "      <td>9</td>\n",
       "      <td>9</td>\n",
       "    </tr>\n",
       "    <tr>\n",
       "      <th>top</th>\n",
       "      <td>E12000003</td>\n",
       "      <td>London</td>\n",
       "    </tr>\n",
       "    <tr>\n",
       "      <th>freq</th>\n",
       "      <td>1</td>\n",
       "      <td>1</td>\n",
       "    </tr>\n",
       "  </tbody>\n",
       "</table>\n",
       "</div>"
      ],
      "text/plain": [
       "             Code  Region\n",
       "count           9       9\n",
       "unique          9       9\n",
       "top     E12000003  London\n",
       "freq            1       1"
      ]
     },
     "execution_count": 30,
     "metadata": {},
     "output_type": "execute_result"
    }
   ],
   "source": [
    "#check minimum values each attribute\n",
    "regions.describe()"
   ]
  },
  {
   "cell_type": "code",
   "execution_count": 31,
   "metadata": {
    "ExecuteTime": {
     "end_time": "2018-10-19T13:09:53.329209Z",
     "start_time": "2018-10-19T13:09:53.312458Z"
    }
   },
   "outputs": [
    {
     "data": {
      "text/html": [
       "<div>\n",
       "<style scoped>\n",
       "    .dataframe tbody tr th:only-of-type {\n",
       "        vertical-align: middle;\n",
       "    }\n",
       "\n",
       "    .dataframe tbody tr th {\n",
       "        vertical-align: top;\n",
       "    }\n",
       "\n",
       "    .dataframe thead th {\n",
       "        text-align: right;\n",
       "    }\n",
       "</style>\n",
       "<table border=\"1\" class=\"dataframe\">\n",
       "  <thead>\n",
       "    <tr style=\"text-align: right;\">\n",
       "      <th></th>\n",
       "      <th>Id</th>\n",
       "      <th>mortality_rate</th>\n",
       "    </tr>\n",
       "  </thead>\n",
       "  <tbody>\n",
       "    <tr>\n",
       "      <th>count</th>\n",
       "      <td>7886.000000</td>\n",
       "      <td>7886.0</td>\n",
       "    </tr>\n",
       "    <tr>\n",
       "      <th>mean</th>\n",
       "      <td>22346.500000</td>\n",
       "      <td>0.0</td>\n",
       "    </tr>\n",
       "    <tr>\n",
       "      <th>std</th>\n",
       "      <td>2276.636444</td>\n",
       "      <td>0.0</td>\n",
       "    </tr>\n",
       "    <tr>\n",
       "      <th>min</th>\n",
       "      <td>18404.000000</td>\n",
       "      <td>0.0</td>\n",
       "    </tr>\n",
       "    <tr>\n",
       "      <th>25%</th>\n",
       "      <td>20375.250000</td>\n",
       "      <td>0.0</td>\n",
       "    </tr>\n",
       "    <tr>\n",
       "      <th>50%</th>\n",
       "      <td>22346.500000</td>\n",
       "      <td>0.0</td>\n",
       "    </tr>\n",
       "    <tr>\n",
       "      <th>75%</th>\n",
       "      <td>24317.750000</td>\n",
       "      <td>0.0</td>\n",
       "    </tr>\n",
       "    <tr>\n",
       "      <th>max</th>\n",
       "      <td>26289.000000</td>\n",
       "      <td>0.0</td>\n",
       "    </tr>\n",
       "  </tbody>\n",
       "</table>\n",
       "</div>"
      ],
      "text/plain": [
       "                 Id  mortality_rate\n",
       "count   7886.000000          7886.0\n",
       "mean   22346.500000             0.0\n",
       "std     2276.636444             0.0\n",
       "min    18404.000000             0.0\n",
       "25%    20375.250000             0.0\n",
       "50%    22346.500000             0.0\n",
       "75%    24317.750000             0.0\n",
       "max    26289.000000             0.0"
      ]
     },
     "execution_count": 31,
     "metadata": {},
     "output_type": "execute_result"
    }
   ],
   "source": [
    "#check minimum values each attribute\n",
    "sample_submission.describe()"
   ]
  },
  {
   "cell_type": "code",
   "execution_count": 32,
   "metadata": {
    "ExecuteTime": {
     "end_time": "2018-10-19T13:10:06.039419Z",
     "start_time": "2018-10-19T13:10:06.007649Z"
    }
   },
   "outputs": [
    {
     "data": {
      "text/html": [
       "<div>\n",
       "<style scoped>\n",
       "    .dataframe tbody tr th:only-of-type {\n",
       "        vertical-align: middle;\n",
       "    }\n",
       "\n",
       "    .dataframe tbody tr th {\n",
       "        vertical-align: top;\n",
       "    }\n",
       "\n",
       "    .dataframe thead th {\n",
       "        text-align: right;\n",
       "    }\n",
       "</style>\n",
       "<table border=\"1\" class=\"dataframe\">\n",
       "  <thead>\n",
       "    <tr style=\"text-align: right;\">\n",
       "      <th></th>\n",
       "      <th>Id</th>\n",
       "      <th>O3</th>\n",
       "      <th>PM10</th>\n",
       "      <th>PM25</th>\n",
       "      <th>NO2</th>\n",
       "      <th>T2M</th>\n",
       "    </tr>\n",
       "  </thead>\n",
       "  <tbody>\n",
       "    <tr>\n",
       "      <th>count</th>\n",
       "      <td>7886.000000</td>\n",
       "      <td>7886.000000</td>\n",
       "      <td>7886.000000</td>\n",
       "      <td>7886.000000</td>\n",
       "      <td>7886.000000</td>\n",
       "      <td>7886.000000</td>\n",
       "    </tr>\n",
       "    <tr>\n",
       "      <th>mean</th>\n",
       "      <td>22346.500000</td>\n",
       "      <td>49.527998</td>\n",
       "      <td>14.545470</td>\n",
       "      <td>8.749311</td>\n",
       "      <td>13.140902</td>\n",
       "      <td>283.410366</td>\n",
       "    </tr>\n",
       "    <tr>\n",
       "      <th>std</th>\n",
       "      <td>2276.636444</td>\n",
       "      <td>16.086797</td>\n",
       "      <td>7.660908</td>\n",
       "      <td>6.437121</td>\n",
       "      <td>8.848008</td>\n",
       "      <td>5.274034</td>\n",
       "    </tr>\n",
       "    <tr>\n",
       "      <th>min</th>\n",
       "      <td>18404.000000</td>\n",
       "      <td>1.559000</td>\n",
       "      <td>2.506000</td>\n",
       "      <td>0.850000</td>\n",
       "      <td>1.386000</td>\n",
       "      <td>268.696000</td>\n",
       "    </tr>\n",
       "    <tr>\n",
       "      <th>25%</th>\n",
       "      <td>20375.250000</td>\n",
       "      <td>39.843000</td>\n",
       "      <td>9.467250</td>\n",
       "      <td>4.620250</td>\n",
       "      <td>6.732750</td>\n",
       "      <td>279.458500</td>\n",
       "    </tr>\n",
       "    <tr>\n",
       "      <th>50%</th>\n",
       "      <td>22346.500000</td>\n",
       "      <td>50.935500</td>\n",
       "      <td>12.364000</td>\n",
       "      <td>6.810000</td>\n",
       "      <td>10.627500</td>\n",
       "      <td>283.518000</td>\n",
       "    </tr>\n",
       "    <tr>\n",
       "      <th>75%</th>\n",
       "      <td>24317.750000</td>\n",
       "      <td>60.379000</td>\n",
       "      <td>17.353750</td>\n",
       "      <td>10.872000</td>\n",
       "      <td>16.864750</td>\n",
       "      <td>287.707250</td>\n",
       "    </tr>\n",
       "    <tr>\n",
       "      <th>max</th>\n",
       "      <td>26289.000000</td>\n",
       "      <td>103.718000</td>\n",
       "      <td>67.361000</td>\n",
       "      <td>56.717000</td>\n",
       "      <td>67.063000</td>\n",
       "      <td>296.740000</td>\n",
       "    </tr>\n",
       "  </tbody>\n",
       "</table>\n",
       "</div>"
      ],
      "text/plain": [
       "                 Id           O3         PM10         PM25          NO2  \\\n",
       "count   7886.000000  7886.000000  7886.000000  7886.000000  7886.000000   \n",
       "mean   22346.500000    49.527998    14.545470     8.749311    13.140902   \n",
       "std     2276.636444    16.086797     7.660908     6.437121     8.848008   \n",
       "min    18404.000000     1.559000     2.506000     0.850000     1.386000   \n",
       "25%    20375.250000    39.843000     9.467250     4.620250     6.732750   \n",
       "50%    22346.500000    50.935500    12.364000     6.810000    10.627500   \n",
       "75%    24317.750000    60.379000    17.353750    10.872000    16.864750   \n",
       "max    26289.000000   103.718000    67.361000    56.717000    67.063000   \n",
       "\n",
       "               T2M  \n",
       "count  7886.000000  \n",
       "mean    283.410366  \n",
       "std       5.274034  \n",
       "min     268.696000  \n",
       "25%     279.458500  \n",
       "50%     283.518000  \n",
       "75%     287.707250  \n",
       "max     296.740000  "
      ]
     },
     "execution_count": 32,
     "metadata": {},
     "output_type": "execute_result"
    }
   ],
   "source": [
    "#check minimum values each attribute\n",
    "test.describe()"
   ]
  },
  {
   "cell_type": "code",
   "execution_count": 33,
   "metadata": {
    "ExecuteTime": {
     "end_time": "2018-10-19T13:10:15.519400Z",
     "start_time": "2018-10-19T13:10:15.480320Z"
    }
   },
   "outputs": [
    {
     "data": {
      "text/html": [
       "<div>\n",
       "<style scoped>\n",
       "    .dataframe tbody tr th:only-of-type {\n",
       "        vertical-align: middle;\n",
       "    }\n",
       "\n",
       "    .dataframe tbody tr th {\n",
       "        vertical-align: top;\n",
       "    }\n",
       "\n",
       "    .dataframe thead th {\n",
       "        text-align: right;\n",
       "    }\n",
       "</style>\n",
       "<table border=\"1\" class=\"dataframe\">\n",
       "  <thead>\n",
       "    <tr style=\"text-align: right;\">\n",
       "      <th></th>\n",
       "      <th>Id</th>\n",
       "      <th>mortality_rate</th>\n",
       "      <th>O3</th>\n",
       "      <th>PM10</th>\n",
       "      <th>PM25</th>\n",
       "      <th>NO2</th>\n",
       "      <th>T2M</th>\n",
       "    </tr>\n",
       "  </thead>\n",
       "  <tbody>\n",
       "    <tr>\n",
       "      <th>count</th>\n",
       "      <td>18403.000000</td>\n",
       "      <td>18403.000000</td>\n",
       "      <td>18394.000000</td>\n",
       "      <td>18394.000000</td>\n",
       "      <td>15127.000000</td>\n",
       "      <td>11833.000000</td>\n",
       "      <td>18403.000000</td>\n",
       "    </tr>\n",
       "    <tr>\n",
       "      <th>mean</th>\n",
       "      <td>9202.000000</td>\n",
       "      <td>1.301737</td>\n",
       "      <td>45.325857</td>\n",
       "      <td>13.712272</td>\n",
       "      <td>7.498714</td>\n",
       "      <td>12.045813</td>\n",
       "      <td>283.002235</td>\n",
       "    </tr>\n",
       "    <tr>\n",
       "      <th>std</th>\n",
       "      <td>5312.632838</td>\n",
       "      <td>0.304161</td>\n",
       "      <td>16.221330</td>\n",
       "      <td>7.421616</td>\n",
       "      <td>5.758357</td>\n",
       "      <td>8.296675</td>\n",
       "      <td>5.182186</td>\n",
       "    </tr>\n",
       "    <tr>\n",
       "      <th>min</th>\n",
       "      <td>1.000000</td>\n",
       "      <td>0.439000</td>\n",
       "      <td>0.988000</td>\n",
       "      <td>2.020000</td>\n",
       "      <td>0.904000</td>\n",
       "      <td>1.104000</td>\n",
       "      <td>265.562000</td>\n",
       "    </tr>\n",
       "    <tr>\n",
       "      <th>25%</th>\n",
       "      <td>4601.500000</td>\n",
       "      <td>1.102000</td>\n",
       "      <td>35.074250</td>\n",
       "      <td>8.656250</td>\n",
       "      <td>3.624000</td>\n",
       "      <td>6.056000</td>\n",
       "      <td>279.321500</td>\n",
       "    </tr>\n",
       "    <tr>\n",
       "      <th>50%</th>\n",
       "      <td>9202.000000</td>\n",
       "      <td>1.281000</td>\n",
       "      <td>45.836000</td>\n",
       "      <td>11.704500</td>\n",
       "      <td>5.636000</td>\n",
       "      <td>9.769000</td>\n",
       "      <td>283.270000</td>\n",
       "    </tr>\n",
       "    <tr>\n",
       "      <th>75%</th>\n",
       "      <td>13802.500000</td>\n",
       "      <td>1.474000</td>\n",
       "      <td>55.881000</td>\n",
       "      <td>16.589000</td>\n",
       "      <td>9.326500</td>\n",
       "      <td>15.858000</td>\n",
       "      <td>287.240500</td>\n",
       "    </tr>\n",
       "    <tr>\n",
       "      <th>max</th>\n",
       "      <td>18403.000000</td>\n",
       "      <td>2.841000</td>\n",
       "      <td>105.693000</td>\n",
       "      <td>60.627000</td>\n",
       "      <td>45.846000</td>\n",
       "      <td>76.765000</td>\n",
       "      <td>297.209000</td>\n",
       "    </tr>\n",
       "  </tbody>\n",
       "</table>\n",
       "</div>"
      ],
      "text/plain": [
       "                 Id  mortality_rate            O3          PM10          PM25  \\\n",
       "count  18403.000000    18403.000000  18394.000000  18394.000000  15127.000000   \n",
       "mean    9202.000000        1.301737     45.325857     13.712272      7.498714   \n",
       "std     5312.632838        0.304161     16.221330      7.421616      5.758357   \n",
       "min        1.000000        0.439000      0.988000      2.020000      0.904000   \n",
       "25%     4601.500000        1.102000     35.074250      8.656250      3.624000   \n",
       "50%     9202.000000        1.281000     45.836000     11.704500      5.636000   \n",
       "75%    13802.500000        1.474000     55.881000     16.589000      9.326500   \n",
       "max    18403.000000        2.841000    105.693000     60.627000     45.846000   \n",
       "\n",
       "                NO2           T2M  \n",
       "count  11833.000000  18403.000000  \n",
       "mean      12.045813    283.002235  \n",
       "std        8.296675      5.182186  \n",
       "min        1.104000    265.562000  \n",
       "25%        6.056000    279.321500  \n",
       "50%        9.769000    283.270000  \n",
       "75%       15.858000    287.240500  \n",
       "max       76.765000    297.209000  "
      ]
     },
     "execution_count": 33,
     "metadata": {},
     "output_type": "execute_result"
    }
   ],
   "source": [
    "#check minimum values each attribute\n",
    "train.describe()"
   ]
  },
  {
   "cell_type": "code",
   "execution_count": 34,
   "metadata": {
    "ExecuteTime": {
     "end_time": "2018-10-19T13:10:54.347692Z",
     "start_time": "2018-10-19T13:10:53.958637Z"
    }
   },
   "outputs": [
    {
     "data": {
      "text/plain": [
       "<matplotlib.axes._subplots.AxesSubplot at 0x7f64b0ed45f8>"
      ]
     },
     "execution_count": 34,
     "metadata": {},
     "output_type": "execute_result"
    },
    {
     "data": {
      "image/png": "[encoded data removed]",
      "text/plain": [
       "<Figure size 360x432 with 1 Axes>"
      ]
     },
     "metadata": {
      "needs_background": "light"
     },
     "output_type": "display_data"
    }
   ],
   "source": [
    "train.boxplot('mortality_rate','region',rot = 30,figsize=(5,6))"
   ]
  },
  {
   "cell_type": "code",
   "execution_count": 35,
   "metadata": {
    "ExecuteTime": {
     "end_time": "2018-10-19T13:11:04.926711Z",
     "start_time": "2018-10-19T13:11:04.546858Z"
    }
   },
   "outputs": [
    {
     "data": {
      "text/plain": [
       "<matplotlib.axes._subplots.AxesSubplot at 0x7f64af5903c8>"
      ]
     },
     "execution_count": 35,
     "metadata": {},
     "output_type": "execute_result"
    },
    {
     "data": {
      "image/png": "[encoded data removed]",
      "text/plain": [
       "<Figure size 360x432 with 1 Axes>"
      ]
     },
     "metadata": {
      "needs_background": "light"
     },
     "output_type": "display_data"
    }
   ],
   "source": [
    "train.plot('O3', 'mortality_rate',rot = 30, kind = 'scatter' , figsize=(5,6))"
   ]
  },
  {
   "cell_type": "code",
   "execution_count": 36,
   "metadata": {
    "ExecuteTime": {
     "end_time": "2018-10-19T13:11:11.314204Z",
     "start_time": "2018-10-19T13:11:10.982706Z"
    }
   },
   "outputs": [
    {
     "data": {
      "text/plain": [
       "<matplotlib.axes._subplots.AxesSubplot at 0x7f64af510470>"
      ]
     },
     "execution_count": 36,
     "metadata": {},
     "output_type": "execute_result"
    },
    {
     "data": {
      "image/png": "[encoded data removed]",
      "text/plain": [
       "<Figure size 360x432 with 1 Axes>"
      ]
     },
     "metadata": {
      "needs_background": "light"
     },
     "output_type": "display_data"
    }
   ],
   "source": [
    "train.plot('PM25', 'mortality_rate',rot = 30, kind = 'scatter' , figsize=(5,6))"
   ]
  },
  {
   "cell_type": "code",
   "execution_count": 37,
   "metadata": {
    "ExecuteTime": {
     "end_time": "2018-10-19T13:11:15.801546Z",
     "start_time": "2018-10-19T13:11:15.480224Z"
    }
   },
   "outputs": [
    {
     "data": {
      "text/plain": [
       "<matplotlib.axes._subplots.AxesSubplot at 0x7f64af4d8da0>"
      ]
     },
     "execution_count": 37,
     "metadata": {},
     "output_type": "execute_result"
    },
    {
     "data": {
      "image/png": "[encoded data removed]",
      "text/plain": [
       "<Figure size 360x432 with 1 Axes>"
      ]
     },
     "metadata": {
      "needs_background": "light"
     },
     "output_type": "display_data"
    }
   ],
   "source": [
    "train.plot('NO2', 'mortality_rate',rot = 30, kind = 'scatter' , figsize=(5,6))"
   ]
  },
  {
   "cell_type": "code",
   "execution_count": 38,
   "metadata": {
    "ExecuteTime": {
     "end_time": "2018-10-19T13:11:19.559939Z",
     "start_time": "2018-10-19T13:11:19.157964Z"
    }
   },
   "outputs": [
    {
     "data": {
      "text/plain": [
       "<matplotlib.axes._subplots.AxesSubplot at 0x7f64af510e48>"
      ]
     },
     "execution_count": 38,
     "metadata": {},
     "output_type": "execute_result"
    },
    {
     "data": {
      "image/png": "[encoded data removed]",
      "text/plain": [
       "<Figure size 360x432 with 1 Axes>"
      ]
     },
     "metadata": {
      "needs_background": "light"
     },
     "output_type": "display_data"
    }
   ],
   "source": [
    "train.plot('T2M', 'mortality_rate',rot = 30, kind = 'scatter' , figsize=(5,6))"
   ]
  },
  {
   "cell_type": "code",
   "execution_count": 42,
   "metadata": {
    "ExecuteTime": {
     "end_time": "2018-10-19T13:13:55.743409Z",
     "start_time": "2018-10-19T13:13:55.508034Z"
    }
   },
   "outputs": [
    {
     "data": {
      "text/plain": [
       "<matplotlib.axes._subplots.AxesSubplot at 0x7f64af3f64e0>"
      ]
     },
     "execution_count": 42,
     "metadata": {},
     "output_type": "execute_result"
    },
    {
     "data": {
      "image/png": "[encoded data removed]",
      "text/plain": [
       "<Figure size 720x576 with 2 Axes>"
      ]
     },
     "metadata": {
      "needs_background": "light"
     },
     "output_type": "display_data"
    }
   ],
   "source": [
    "corr = train.corr()\n",
    "sns.heatmap(corr, \n",
    "        xticklabels=corr.columns,\n",
    "        yticklabels=corr.columns)"
   ]
  },
  {
   "cell_type": "code",
   "execution_count": 48,
   "metadata": {
    "ExecuteTime": {
     "end_time": "2018-10-19T13:19:06.524577Z",
     "start_time": "2018-10-19T13:19:06.515165Z"
    }
   },
   "outputs": [],
   "source": [
    "copy = train.dropna()"
   ]
  },
  {
   "cell_type": "markdown",
   "metadata": {},
   "source": [
    "Anadir lo que hice en la casa"
   ]
  },
  {
   "cell_type": "code",
   "execution_count": 49,
   "metadata": {
    "ExecuteTime": {
     "end_time": "2018-10-19T13:19:14.403688Z",
     "start_time": "2018-10-19T13:19:14.381410Z"
    }
   },
   "outputs": [
    {
     "ename": "TypeError",
     "evalue": "ufunc 'isnan' not supported for the input types, and the inputs could not be safely coerced to any supported types according to the casting rule ''safe''",
     "output_type": "error",
     "traceback": [
      "\u001b[0;31m---------------------------------------------------------------------------\u001b[0m",
      "\u001b[0;31mTypeError\u001b[0m                                 Traceback (most recent call last)",
      "\u001b[0;32m<ipython-input-49-5bf030f4464a>\u001b[0m in \u001b[0;36m<module>\u001b[0;34m\u001b[0m\n\u001b[0;32m----> 1\u001b[0;31m \u001b[0max\u001b[0m \u001b[0;34m=\u001b[0m \u001b[0msns\u001b[0m\u001b[0;34m.\u001b[0m\u001b[0mheatmap\u001b[0m\u001b[0;34m(\u001b[0m\u001b[0mcopy\u001b[0m\u001b[0;34m)\u001b[0m\u001b[0;34m\u001b[0m\u001b[0m\n\u001b[0m",
      "\u001b[0;32m/opt/conda/lib/python3.6/site-packages/seaborn/matrix.py\u001b[0m in \u001b[0;36mheatmap\u001b[0;34m(data, vmin, vmax, cmap, center, robust, annot, fmt, annot_kws, linewidths, linecolor, cbar, cbar_kws, cbar_ax, square, xticklabels, yticklabels, mask, ax, **kwargs)\u001b[0m\n\u001b[1;32m    515\u001b[0m     plotter = _HeatMapper(data, vmin, vmax, cmap, center, robust, annot, fmt,\n\u001b[1;32m    516\u001b[0m                           \u001b[0mannot_kws\u001b[0m\u001b[0;34m,\u001b[0m \u001b[0mcbar\u001b[0m\u001b[0;34m,\u001b[0m \u001b[0mcbar_kws\u001b[0m\u001b[0;34m,\u001b[0m \u001b[0mxticklabels\u001b[0m\u001b[0;34m,\u001b[0m\u001b[0;34m\u001b[0m\u001b[0m\n\u001b[0;32m--> 517\u001b[0;31m                           yticklabels, mask)\n\u001b[0m\u001b[1;32m    518\u001b[0m \u001b[0;34m\u001b[0m\u001b[0m\n\u001b[1;32m    519\u001b[0m     \u001b[0;31m# Add the pcolormesh kwargs here\u001b[0m\u001b[0;34m\u001b[0m\u001b[0;34m\u001b[0m\u001b[0m\n",
      "\u001b[0;32m/opt/conda/lib/python3.6/site-packages/seaborn/matrix.py\u001b[0m in \u001b[0;36m__init__\u001b[0;34m(self, data, vmin, vmax, cmap, center, robust, annot, fmt, annot_kws, cbar, cbar_kws, xticklabels, yticklabels, mask)\u001b[0m\n\u001b[1;32m    165\u001b[0m         \u001b[0;31m# Determine good default values for the colormapping\u001b[0m\u001b[0;34m\u001b[0m\u001b[0;34m\u001b[0m\u001b[0m\n\u001b[1;32m    166\u001b[0m         self._determine_cmap_params(plot_data, vmin, vmax,\n\u001b[0;32m--> 167\u001b[0;31m                                     cmap, center, robust)\n\u001b[0m\u001b[1;32m    168\u001b[0m \u001b[0;34m\u001b[0m\u001b[0m\n\u001b[1;32m    169\u001b[0m         \u001b[0;31m# Sort out the annotations\u001b[0m\u001b[0;34m\u001b[0m\u001b[0;34m\u001b[0m\u001b[0m\n",
      "\u001b[0;32m/opt/conda/lib/python3.6/site-packages/seaborn/matrix.py\u001b[0m in \u001b[0;36m_determine_cmap_params\u001b[0;34m(self, plot_data, vmin, vmax, cmap, center, robust)\u001b[0m\n\u001b[1;32m    202\u001b[0m                                cmap, center, robust):\n\u001b[1;32m    203\u001b[0m         \u001b[0;34m\"\"\"Use some heuristics to set good defaults for colorbar and range.\"\"\"\u001b[0m\u001b[0;34m\u001b[0m\u001b[0m\n\u001b[0;32m--> 204\u001b[0;31m         \u001b[0mcalc_data\u001b[0m \u001b[0;34m=\u001b[0m \u001b[0mplot_data\u001b[0m\u001b[0;34m.\u001b[0m\u001b[0mdata\u001b[0m\u001b[0;34m[\u001b[0m\u001b[0;34m~\u001b[0m\u001b[0mnp\u001b[0m\u001b[0;34m.\u001b[0m\u001b[0misnan\u001b[0m\u001b[0;34m(\u001b[0m\u001b[0mplot_data\u001b[0m\u001b[0;34m.\u001b[0m\u001b[0mdata\u001b[0m\u001b[0;34m)\u001b[0m\u001b[0;34m]\u001b[0m\u001b[0;34m\u001b[0m\u001b[0m\n\u001b[0m\u001b[1;32m    205\u001b[0m         \u001b[0;32mif\u001b[0m \u001b[0mvmin\u001b[0m \u001b[0;32mis\u001b[0m \u001b[0;32mNone\u001b[0m\u001b[0;34m:\u001b[0m\u001b[0;34m\u001b[0m\u001b[0m\n\u001b[1;32m    206\u001b[0m             \u001b[0mvmin\u001b[0m \u001b[0;34m=\u001b[0m \u001b[0mnp\u001b[0m\u001b[0;34m.\u001b[0m\u001b[0mpercentile\u001b[0m\u001b[0;34m(\u001b[0m\u001b[0mcalc_data\u001b[0m\u001b[0;34m,\u001b[0m \u001b[0;36m2\u001b[0m\u001b[0;34m)\u001b[0m \u001b[0;32mif\u001b[0m \u001b[0mrobust\u001b[0m \u001b[0;32melse\u001b[0m \u001b[0mcalc_data\u001b[0m\u001b[0;34m.\u001b[0m\u001b[0mmin\u001b[0m\u001b[0;34m(\u001b[0m\u001b[0;34m)\u001b[0m\u001b[0;34m\u001b[0m\u001b[0m\n",
      "\u001b[0;31mTypeError\u001b[0m: ufunc 'isnan' not supported for the input types, and the inputs could not be safely coerced to any supported types according to the casting rule ''safe''"
     ]
    }
   ],
   "source": [
    "ax = sns.heatmap(copy)"
   ]
  },
  {
   "cell_type": "code",
   "execution_count": 50,
   "metadata": {
    "ExecuteTime": {
     "end_time": "2018-10-19T13:19:22.714554Z",
     "start_time": "2018-10-19T13:19:22.685804Z"
    }
   },
   "outputs": [
    {
     "ename": "TypeError",
     "evalue": "ufunc 'isnan' not supported for the input types, and the inputs could not be safely coerced to any supported types according to the casting rule ''safe''",
     "output_type": "error",
     "traceback": [
      "\u001b[0;31m---------------------------------------------------------------------------\u001b[0m",
      "\u001b[0;31mTypeError\u001b[0m                                 Traceback (most recent call last)",
      "\u001b[0;32m<ipython-input-50-110766fef2ff>\u001b[0m in \u001b[0;36m<module>\u001b[0;34m\u001b[0m\n\u001b[0;32m----> 1\u001b[0;31m \u001b[0max\u001b[0m \u001b[0;34m=\u001b[0m \u001b[0msns\u001b[0m\u001b[0;34m.\u001b[0m\u001b[0mheatmap\u001b[0m\u001b[0;34m(\u001b[0m\u001b[0mcopy\u001b[0m\u001b[0;34m,\u001b[0m \u001b[0mcmap\u001b[0m\u001b[0;34m=\u001b[0m\u001b[0;34m\"YlGnBu\"\u001b[0m\u001b[0;34m)\u001b[0m\u001b[0;34m\u001b[0m\u001b[0m\n\u001b[0m",
      "\u001b[0;32m/opt/conda/lib/python3.6/site-packages/seaborn/matrix.py\u001b[0m in \u001b[0;36mheatmap\u001b[0;34m(data, vmin, vmax, cmap, center, robust, annot, fmt, annot_kws, linewidths, linecolor, cbar, cbar_kws, cbar_ax, square, xticklabels, yticklabels, mask, ax, **kwargs)\u001b[0m\n\u001b[1;32m    515\u001b[0m     plotter = _HeatMapper(data, vmin, vmax, cmap, center, robust, annot, fmt,\n\u001b[1;32m    516\u001b[0m                           \u001b[0mannot_kws\u001b[0m\u001b[0;34m,\u001b[0m \u001b[0mcbar\u001b[0m\u001b[0;34m,\u001b[0m \u001b[0mcbar_kws\u001b[0m\u001b[0;34m,\u001b[0m \u001b[0mxticklabels\u001b[0m\u001b[0;34m,\u001b[0m\u001b[0;34m\u001b[0m\u001b[0m\n\u001b[0;32m--> 517\u001b[0;31m                           yticklabels, mask)\n\u001b[0m\u001b[1;32m    518\u001b[0m \u001b[0;34m\u001b[0m\u001b[0m\n\u001b[1;32m    519\u001b[0m     \u001b[0;31m# Add the pcolormesh kwargs here\u001b[0m\u001b[0;34m\u001b[0m\u001b[0;34m\u001b[0m\u001b[0m\n",
      "\u001b[0;32m/opt/conda/lib/python3.6/site-packages/seaborn/matrix.py\u001b[0m in \u001b[0;36m__init__\u001b[0;34m(self, data, vmin, vmax, cmap, center, robust, annot, fmt, annot_kws, cbar, cbar_kws, xticklabels, yticklabels, mask)\u001b[0m\n\u001b[1;32m    165\u001b[0m         \u001b[0;31m# Determine good default values for the colormapping\u001b[0m\u001b[0;34m\u001b[0m\u001b[0;34m\u001b[0m\u001b[0m\n\u001b[1;32m    166\u001b[0m         self._determine_cmap_params(plot_data, vmin, vmax,\n\u001b[0;32m--> 167\u001b[0;31m                                     cmap, center, robust)\n\u001b[0m\u001b[1;32m    168\u001b[0m \u001b[0;34m\u001b[0m\u001b[0m\n\u001b[1;32m    169\u001b[0m         \u001b[0;31m# Sort out the annotations\u001b[0m\u001b[0;34m\u001b[0m\u001b[0;34m\u001b[0m\u001b[0m\n",
      "\u001b[0;32m/opt/conda/lib/python3.6/site-packages/seaborn/matrix.py\u001b[0m in \u001b[0;36m_determine_cmap_params\u001b[0;34m(self, plot_data, vmin, vmax, cmap, center, robust)\u001b[0m\n\u001b[1;32m    202\u001b[0m                                cmap, center, robust):\n\u001b[1;32m    203\u001b[0m         \u001b[0;34m\"\"\"Use some heuristics to set good defaults for colorbar and range.\"\"\"\u001b[0m\u001b[0;34m\u001b[0m\u001b[0m\n\u001b[0;32m--> 204\u001b[0;31m         \u001b[0mcalc_data\u001b[0m \u001b[0;34m=\u001b[0m \u001b[0mplot_data\u001b[0m\u001b[0;34m.\u001b[0m\u001b[0mdata\u001b[0m\u001b[0;34m[\u001b[0m\u001b[0;34m~\u001b[0m\u001b[0mnp\u001b[0m\u001b[0;34m.\u001b[0m\u001b[0misnan\u001b[0m\u001b[0;34m(\u001b[0m\u001b[0mplot_data\u001b[0m\u001b[0;34m.\u001b[0m\u001b[0mdata\u001b[0m\u001b[0;34m)\u001b[0m\u001b[0;34m]\u001b[0m\u001b[0;34m\u001b[0m\u001b[0m\n\u001b[0m\u001b[1;32m    205\u001b[0m         \u001b[0;32mif\u001b[0m \u001b[0mvmin\u001b[0m \u001b[0;32mis\u001b[0m \u001b[0;32mNone\u001b[0m\u001b[0;34m:\u001b[0m\u001b[0;34m\u001b[0m\u001b[0m\n\u001b[1;32m    206\u001b[0m             \u001b[0mvmin\u001b[0m \u001b[0;34m=\u001b[0m \u001b[0mnp\u001b[0m\u001b[0;34m.\u001b[0m\u001b[0mpercentile\u001b[0m\u001b[0;34m(\u001b[0m\u001b[0mcalc_data\u001b[0m\u001b[0;34m,\u001b[0m \u001b[0;36m2\u001b[0m\u001b[0;34m)\u001b[0m \u001b[0;32mif\u001b[0m \u001b[0mrobust\u001b[0m \u001b[0;32melse\u001b[0m \u001b[0mcalc_data\u001b[0m\u001b[0;34m.\u001b[0m\u001b[0mmin\u001b[0m\u001b[0;34m(\u001b[0m\u001b[0;34m)\u001b[0m\u001b[0;34m\u001b[0m\u001b[0m\n",
      "\u001b[0;31mTypeError\u001b[0m: ufunc 'isnan' not supported for the input types, and the inputs could not be safely coerced to any supported types according to the casting rule ''safe''"
     ]
    }
   ],
   "source": [
    "ax = sns.heatmap(copy, cmap=\"YlGnBu\")"
   ]
  },
  {
   "cell_type": "code",
   "execution_count": 18,
   "metadata": {},
   "outputs": [],
   "source": [
    "#import boto3\n",
    "import re\n",
    "import os\n",
    "import numpy as np\n",
    "import pandas as pd\n",
    "from sklearn import tree"
   ]
  },
  {
   "cell_type": "code",
   "execution_count": 33,
   "metadata": {},
   "outputs": [
    {
     "ename": "ValueError",
     "evalue": "Unknown label type: 'continuous'",
     "output_type": "error",
     "traceback": [
      "\u001b[1;31m---------------------------------------------------------------------------\u001b[0m",
      "\u001b[1;31mValueError\u001b[0m                                Traceback (most recent call last)",
      "\u001b[1;32m<ipython-input-33-fb359cb3e2c2>\u001b[0m in \u001b[0;36m<module>\u001b[1;34m()\u001b[0m\n\u001b[0;32m     10\u001b[0m \u001b[1;31m# Now use scikit-learn's decision tree classifier to train the model.\u001b[0m\u001b[1;33m\u001b[0m\u001b[1;33m\u001b[0m\u001b[0m\n\u001b[0;32m     11\u001b[0m \u001b[0mclf\u001b[0m \u001b[1;33m=\u001b[0m \u001b[0mtree\u001b[0m\u001b[1;33m.\u001b[0m\u001b[0mDecisionTreeClassifier\u001b[0m\u001b[1;33m(\u001b[0m\u001b[0mmax_leaf_nodes\u001b[0m\u001b[1;33m=\u001b[0m\u001b[0mmax_leaf_nodes\u001b[0m\u001b[1;33m)\u001b[0m\u001b[1;33m\u001b[0m\u001b[0m\n\u001b[1;32m---> 12\u001b[1;33m \u001b[0mclf\u001b[0m \u001b[1;33m=\u001b[0m \u001b[0mclf\u001b[0m\u001b[1;33m.\u001b[0m\u001b[0mfit\u001b[0m\u001b[1;33m(\u001b[0m\u001b[0mtrain_X\u001b[0m\u001b[1;33m,\u001b[0m \u001b[0mtrain_y\u001b[0m\u001b[1;33m)\u001b[0m\u001b[1;33m\u001b[0m\u001b[0m\n\u001b[0m\u001b[0;32m     13\u001b[0m \u001b[0mclf\u001b[0m\u001b[1;33m\u001b[0m\u001b[0m\n",
      "\u001b[1;32m~\\AppData\\Local\\Continuum\\anaconda3\\lib\\site-packages\\sklearn\\tree\\tree.py\u001b[0m in \u001b[0;36mfit\u001b[1;34m(self, X, y, sample_weight, check_input, X_idx_sorted)\u001b[0m\n\u001b[0;32m    788\u001b[0m             \u001b[0msample_weight\u001b[0m\u001b[1;33m=\u001b[0m\u001b[0msample_weight\u001b[0m\u001b[1;33m,\u001b[0m\u001b[1;33m\u001b[0m\u001b[0m\n\u001b[0;32m    789\u001b[0m             \u001b[0mcheck_input\u001b[0m\u001b[1;33m=\u001b[0m\u001b[0mcheck_input\u001b[0m\u001b[1;33m,\u001b[0m\u001b[1;33m\u001b[0m\u001b[0m\n\u001b[1;32m--> 790\u001b[1;33m             X_idx_sorted=X_idx_sorted)\n\u001b[0m\u001b[0;32m    791\u001b[0m         \u001b[1;32mreturn\u001b[0m \u001b[0mself\u001b[0m\u001b[1;33m\u001b[0m\u001b[0m\n\u001b[0;32m    792\u001b[0m \u001b[1;33m\u001b[0m\u001b[0m\n",
      "\u001b[1;32m~\\AppData\\Local\\Continuum\\anaconda3\\lib\\site-packages\\sklearn\\tree\\tree.py\u001b[0m in \u001b[0;36mfit\u001b[1;34m(self, X, y, sample_weight, check_input, X_idx_sorted)\u001b[0m\n\u001b[0;32m    138\u001b[0m \u001b[1;33m\u001b[0m\u001b[0m\n\u001b[0;32m    139\u001b[0m         \u001b[1;32mif\u001b[0m \u001b[0mis_classification\u001b[0m\u001b[1;33m:\u001b[0m\u001b[1;33m\u001b[0m\u001b[0m\n\u001b[1;32m--> 140\u001b[1;33m             \u001b[0mcheck_classification_targets\u001b[0m\u001b[1;33m(\u001b[0m\u001b[0my\u001b[0m\u001b[1;33m)\u001b[0m\u001b[1;33m\u001b[0m\u001b[0m\n\u001b[0m\u001b[0;32m    141\u001b[0m             \u001b[0my\u001b[0m \u001b[1;33m=\u001b[0m \u001b[0mnp\u001b[0m\u001b[1;33m.\u001b[0m\u001b[0mcopy\u001b[0m\u001b[1;33m(\u001b[0m\u001b[0my\u001b[0m\u001b[1;33m)\u001b[0m\u001b[1;33m\u001b[0m\u001b[0m\n\u001b[0;32m    142\u001b[0m \u001b[1;33m\u001b[0m\u001b[0m\n",
      "\u001b[1;32m~\\AppData\\Local\\Continuum\\anaconda3\\lib\\site-packages\\sklearn\\utils\\multiclass.py\u001b[0m in \u001b[0;36mcheck_classification_targets\u001b[1;34m(y)\u001b[0m\n\u001b[0;32m    170\u001b[0m     if y_type not in ['binary', 'multiclass', 'multiclass-multioutput',\n\u001b[0;32m    171\u001b[0m                       'multilabel-indicator', 'multilabel-sequences']:\n\u001b[1;32m--> 172\u001b[1;33m         \u001b[1;32mraise\u001b[0m \u001b[0mValueError\u001b[0m\u001b[1;33m(\u001b[0m\u001b[1;34m\"Unknown label type: %r\"\u001b[0m \u001b[1;33m%\u001b[0m \u001b[0my_type\u001b[0m\u001b[1;33m)\u001b[0m\u001b[1;33m\u001b[0m\u001b[0m\n\u001b[0m\u001b[0;32m    173\u001b[0m \u001b[1;33m\u001b[0m\u001b[0m\n\u001b[0;32m    174\u001b[0m \u001b[1;33m\u001b[0m\u001b[0m\n",
      "\u001b[1;31mValueError\u001b[0m: Unknown label type: 'continuous'"
     ]
    }
   ],
   "source": [
    "# Read data into pandas dataframe\n",
    "train_data = train.dropna()\n",
    "# labels are in the first column\n",
    "train_y = train_data.iloc[:,3]\n",
    "# rest of the columns are features\n",
    "train_X = train_data.iloc[:,4:]\n",
    "\n",
    "# hyper parameter for Decision Tree\n",
    "max_leaf_nodes=5\n",
    "# Now use scikit-learn's decision tree classifier to train the model.\n",
    "clf = tree.DecisionTreeClassifier(max_leaf_nodes=max_leaf_nodes)\n",
    "clf = clf.fit(train_X, train_y)\n",
    "clf\n",
    "\n"
   ]
  },
  {
   "cell_type": "markdown",
   "metadata": {},
   "source": [
    "# one hot encoding"
   ]
  },
  {
   "cell_type": "code",
   "execution_count": 63,
   "metadata": {
    "ExecuteTime": {
     "end_time": "2018-10-19T13:49:20.328972Z",
     "start_time": "2018-10-19T13:49:20.323646Z"
    }
   },
   "outputs": [
    {
     "data": {
      "text/plain": [
       "0    E12000001\n",
       "1    E12000001\n",
       "2    E12000001\n",
       "Name: region, dtype: object"
      ]
     },
     "execution_count": 63,
     "metadata": {},
     "output_type": "execute_result"
    }
   ],
   "source": [
    "# limit to categorical data using df.select_dtypes()\n",
    "X = train['region']\n",
    "X.head(3)"
   ]
  },
  {
   "cell_type": "code",
   "execution_count": 64,
   "metadata": {
    "ExecuteTime": {
     "end_time": "2018-10-19T13:49:26.049305Z",
     "start_time": "2018-10-19T13:49:26.045766Z"
    }
   },
   "outputs": [
    {
     "data": {
      "text/plain": [
       "(18403,)"
      ]
     },
     "execution_count": 64,
     "metadata": {},
     "output_type": "execute_result"
    }
   ],
   "source": [
    "# check original shape\n",
    "X.shape"
   ]
  },
  {
   "cell_type": "code",
   "execution_count": 92,
   "metadata": {
    "ExecuteTime": {
     "end_time": "2018-10-19T15:05:08.061095Z",
     "start_time": "2018-10-19T15:05:08.053436Z"
    }
   },
   "outputs": [
    {
     "data": {
      "text/plain": [
       "Index(['North East', 'North West', 'Yorkshire and The Humber', 'East Midlands',\n",
       "       'West Midlands', 'East of England', 'London', 'South East',\n",
       "       'South Wes'],\n",
       "      dtype='object')"
      ]
     },
     "execution_count": 92,
     "metadata": {},
     "output_type": "execute_result"
    }
   ],
   "source": [
    "# one hot encoding for region\n",
    "regions_hot = pd.get_dummies(X, prefix=['region'])\n",
    "# rename columns \n",
    "regions_hot.columns = [\"North East\",\"North West\",\"Yorkshire and The Humber\",\"East Midlands\", \n",
    "                     \"West Midlands\",\"East of England\",\"London\",\"South East\",\"South Wes\"]\n",
    "regions_hot.columns"
   ]
  },
  {
   "cell_type": "code",
   "execution_count": 95,
   "metadata": {
    "ExecuteTime": {
     "end_time": "2018-10-19T15:12:19.222997Z",
     "start_time": "2018-10-19T15:12:19.214653Z"
    }
   },
   "outputs": [],
   "source": [
    "# drop region column from train data set\n",
    "train = train.drop(['region'], axis=1)"
   ]
  },
  {
   "cell_type": "code",
   "execution_count": 98,
   "metadata": {
    "ExecuteTime": {
     "end_time": "2018-10-19T15:13:13.633696Z",
     "start_time": "2018-10-19T15:13:13.611140Z"
    }
   },
   "outputs": [
    {
     "data": {
      "text/plain": [
       "<bound method NDFrame.head of        North East  North West  Yorkshire and The Humber  East Midlands  \\\n",
       "0               1           0                         0              0   \n",
       "1               1           0                         0              0   \n",
       "2               1           0                         0              0   \n",
       "3               1           0                         0              0   \n",
       "4               1           0                         0              0   \n",
       "5               1           0                         0              0   \n",
       "6               1           0                         0              0   \n",
       "7               1           0                         0              0   \n",
       "8               1           0                         0              0   \n",
       "9               1           0                         0              0   \n",
       "10              1           0                         0              0   \n",
       "11              1           0                         0              0   \n",
       "12              1           0                         0              0   \n",
       "13              1           0                         0              0   \n",
       "14              1           0                         0              0   \n",
       "15              1           0                         0              0   \n",
       "16              1           0                         0              0   \n",
       "17              1           0                         0              0   \n",
       "18              1           0                         0              0   \n",
       "19              1           0                         0              0   \n",
       "20              1           0                         0              0   \n",
       "21              1           0                         0              0   \n",
       "22              1           0                         0              0   \n",
       "23              1           0                         0              0   \n",
       "24              1           0                         0              0   \n",
       "25              1           0                         0              0   \n",
       "26              1           0                         0              0   \n",
       "27              1           0                         0              0   \n",
       "28              1           0                         0              0   \n",
       "29              1           0                         0              0   \n",
       "...           ...         ...                       ...            ...   \n",
       "18373           0           0                         0              0   \n",
       "18374           0           0                         0              0   \n",
       "18375           0           0                         0              0   \n",
       "18376           0           0                         0              0   \n",
       "18377           0           0                         0              0   \n",
       "18378           0           0                         0              0   \n",
       "18379           0           0                         0              0   \n",
       "18380           0           0                         0              0   \n",
       "18381           0           0                         0              0   \n",
       "18382           0           0                         0              0   \n",
       "18383           0           0                         0              0   \n",
       "18384           0           0                         0              0   \n",
       "18385           0           0                         0              0   \n",
       "18386           0           0                         0              0   \n",
       "18387           0           0                         0              0   \n",
       "18388           0           0                         0              0   \n",
       "18389           0           0                         0              0   \n",
       "18390           0           0                         0              0   \n",
       "18391           0           0                         0              0   \n",
       "18392           0           0                         0              0   \n",
       "18393           0           0                         0              0   \n",
       "18394           0           0                         0              0   \n",
       "18395           0           0                         0              0   \n",
       "18396           0           0                         0              0   \n",
       "18397           0           0                         0              0   \n",
       "18398           0           0                         0              0   \n",
       "18399           0           0                         0              0   \n",
       "18400           0           0                         0              0   \n",
       "18401           0           0                         0              0   \n",
       "18402           0           0                         0              0   \n",
       "\n",
       "       West Midlands  East of England  London  South East  South Wes     Id  \\\n",
       "0                  0                0       0           0          0      1   \n",
       "1                  0                0       0           0          0      2   \n",
       "2                  0                0       0           0          0      3   \n",
       "3                  0                0       0           0          0      4   \n",
       "4                  0                0       0           0          0      5   \n",
       "5                  0                0       0           0          0      6   \n",
       "6                  0                0       0           0          0      7   \n",
       "7                  0                0       0           0          0      8   \n",
       "8                  0                0       0           0          0      9   \n",
       "9                  0                0       0           0          0     10   \n",
       "10                 0                0       0           0          0     11   \n",
       "11                 0                0       0           0          0     12   \n",
       "12                 0                0       0           0          0     13   \n",
       "13                 0                0       0           0          0     14   \n",
       "14                 0                0       0           0          0     15   \n",
       "15                 0                0       0           0          0     16   \n",
       "16                 0                0       0           0          0     17   \n",
       "17                 0                0       0           0          0     18   \n",
       "18                 0                0       0           0          0     19   \n",
       "19                 0                0       0           0          0     20   \n",
       "20                 0                0       0           0          0     21   \n",
       "21                 0                0       0           0          0     22   \n",
       "22                 0                0       0           0          0     23   \n",
       "23                 0                0       0           0          0     24   \n",
       "24                 0                0       0           0          0     25   \n",
       "25                 0                0       0           0          0     26   \n",
       "26                 0                0       0           0          0     27   \n",
       "27                 0                0       0           0          0     28   \n",
       "28                 0                0       0           0          0     29   \n",
       "29                 0                0       0           0          0     30   \n",
       "...              ...              ...     ...         ...        ...    ...   \n",
       "18373              0                1       0           0          0  18374   \n",
       "18374              0                1       0           0          0  18375   \n",
       "18375              0                1       0           0          0  18376   \n",
       "18376              0                1       0           0          0  18377   \n",
       "18377              0                1       0           0          0  18378   \n",
       "18378              0                1       0           0          0  18379   \n",
       "18379              0                1       0           0          0  18380   \n",
       "18380              0                1       0           0          0  18381   \n",
       "18381              0                1       0           0          0  18382   \n",
       "18382              0                1       0           0          0  18383   \n",
       "18383              0                1       0           0          0  18384   \n",
       "18384              0                1       0           0          0  18385   \n",
       "18385              0                1       0           0          0  18386   \n",
       "18386              0                1       0           0          0  18387   \n",
       "18387              0                1       0           0          0  18388   \n",
       "18388              0                1       0           0          0  18389   \n",
       "18389              0                1       0           0          0  18390   \n",
       "18390              0                1       0           0          0  18391   \n",
       "18391              0                1       0           0          0  18392   \n",
       "18392              0                1       0           0          0  18393   \n",
       "18393              0                1       0           0          0  18394   \n",
       "18394              0                1       0           0          0  18395   \n",
       "18395              0                1       0           0          0  18396   \n",
       "18396              0                1       0           0          0  18397   \n",
       "18397              0                1       0           0          0  18398   \n",
       "18398              0                1       0           0          0  18399   \n",
       "18399              0                1       0           0          0  18400   \n",
       "18400              0                1       0           0          0  18401   \n",
       "18401              0                1       0           0          0  18402   \n",
       "18402              0                1       0           0          0  18403   \n",
       "\n",
       "             date  mortality_rate      O3    PM10    PM25     NO2      T2M  \n",
       "0      2007-01-02           2.264  42.358   9.021     NaN     NaN  278.138  \n",
       "1      2007-01-03           2.030  49.506   5.256     NaN     NaN  281.745  \n",
       "2      2007-01-04           1.874  51.101   4.946     NaN     NaN  280.523  \n",
       "3      2007-01-05           2.069  47.478   6.823     NaN     NaN  280.421  \n",
       "4      2007-01-06           1.913  45.226   7.532     NaN     NaN  278.961  \n",
       "5      2007-01-07           1.756  53.226   5.607     NaN     NaN  281.504  \n",
       "6      2007-01-08           1.756  48.177   4.674     NaN     NaN  279.519  \n",
       "7      2007-01-09           2.147  56.917   5.979     NaN     NaN  281.866  \n",
       "8      2007-01-10           2.186  45.757   3.433     NaN     NaN  278.044  \n",
       "9      2007-01-11           1.249  56.388   6.159     NaN     NaN  280.358  \n",
       "10     2007-01-12           2.342  56.014   5.962     NaN     NaN  282.104  \n",
       "11     2007-01-13           1.444  55.656   5.122     NaN     NaN  280.847  \n",
       "12     2007-01-14           1.678  54.312   4.990     NaN     NaN  279.163  \n",
       "13     2007-01-15           2.186  56.654   5.590     NaN     NaN  280.905  \n",
       "14     2007-01-16           1.795  33.107   7.525     NaN     NaN  276.678  \n",
       "15     2007-01-17           1.678  50.589   5.812     NaN     NaN  278.028  \n",
       "16     2007-01-18           2.576  45.819   3.722     NaN     NaN  278.681  \n",
       "17     2007-01-19           2.030  49.809   8.244     NaN     NaN  280.647  \n",
       "18     2007-01-20           1.756  49.056   6.767     NaN     NaN  278.567  \n",
       "19     2007-01-21           1.834  47.730   3.846     NaN     NaN  275.684  \n",
       "20     2007-01-22           1.834  48.284   3.341     NaN     NaN  275.259  \n",
       "21     2007-01-23           1.756  42.107   2.798     NaN     NaN  272.845  \n",
       "22     2007-01-24           1.678  52.358   3.155     NaN     NaN  275.514  \n",
       "23     2007-01-25           2.186  41.495   4.348     NaN     NaN  274.234  \n",
       "24     2007-01-26           1.327  46.715   5.215     NaN     NaN  277.705  \n",
       "25     2007-01-27           1.834  48.000   4.707     NaN     NaN  278.780  \n",
       "26     2007-01-28           1.366  54.158   2.884     NaN     NaN  280.840  \n",
       "27     2007-01-29           1.913  47.568   6.490     NaN     NaN  280.227  \n",
       "28     2007-01-30           1.834  49.412   6.048     NaN     NaN  277.497  \n",
       "29     2007-01-31           2.147  49.603   4.470     NaN     NaN  282.047  \n",
       "...           ...             ...     ...     ...     ...     ...      ...  \n",
       "18373  2012-04-28           1.033  78.837   8.167   4.853   4.404  280.693  \n",
       "18374  2012-04-29           1.168  74.037   8.910   6.303   6.448  282.184  \n",
       "18375  2012-04-30           1.354  77.923  11.719   9.054  10.103  285.662  \n",
       "18376  2012-05-01           0.999  68.472  17.095  12.800  12.435  284.606  \n",
       "18377  2012-05-02           1.151  73.233  19.481  15.561   6.994  284.158  \n",
       "18378  2012-05-03           1.574  78.405  10.266   6.550   4.986  281.502  \n",
       "18379  2012-05-04           1.134  77.395   9.472   6.881   5.218  280.882  \n",
       "18380  2012-05-05           1.303  77.420   7.589   3.183   2.939  279.807  \n",
       "18381  2012-05-06           1.219  74.625   8.122   4.682   4.628  280.100  \n",
       "18382  2012-05-07           1.016  60.726  13.033  10.414  11.198  282.221  \n",
       "18383  2012-05-08           0.914  59.395  11.175   9.328  12.573  285.433  \n",
       "18384  2012-05-09           1.371  43.066  10.944   8.970  14.597  285.449  \n",
       "18385  2012-05-10           1.320  44.464   4.992   3.808   8.269  288.647  \n",
       "18386  2012-05-11           1.202  71.058   7.527   4.821   6.531  285.032  \n",
       "18387  2012-05-12           1.100  69.667   7.970   5.681   6.998  282.646  \n",
       "18388  2012-05-13           1.083  66.402   9.910   7.960  10.483  284.291  \n",
       "18389  2012-05-14           0.846  64.160   8.654   6.316  10.492  282.790  \n",
       "18390  2012-05-15           1.337  60.380   7.633   4.806   7.240  280.714  \n",
       "18391  2012-05-16           1.168  51.549   8.636   5.862   9.884  282.289  \n",
       "18392  2012-05-17           1.185  56.292  15.362  12.528  13.554  283.094  \n",
       "18393  2012-05-18           0.948  59.057  21.654  17.184  15.931  285.598  \n",
       "18394  2012-05-19           1.066  61.016  19.220  14.621   8.671  285.836  \n",
       "18395  2012-05-20           1.083  76.151  13.819   9.166   4.042  284.244  \n",
       "18396  2012-05-21           1.337  85.217  22.045  16.799   4.705  285.601  \n",
       "18397  2012-05-22           1.168  85.784  26.600  20.172   5.946  288.663  \n",
       "18398  2012-05-23           0.948  75.421  32.671  26.205   7.197  289.452  \n",
       "18399  2012-05-24           0.948  76.441  36.838  33.014   9.165  290.277  \n",
       "18400  2012-05-25           1.185  84.640  21.375  16.496  10.170  290.576  \n",
       "18401  2012-05-26           0.914  93.455  20.009  15.675   8.701  290.413  \n",
       "18402  2012-05-27           0.829  86.743  18.619  15.244  11.722  290.797  \n",
       "\n",
       "[18403 rows x 17 columns]>"
      ]
     },
     "execution_count": 98,
     "metadata": {},
     "output_type": "execute_result"
    }
   ],
   "source": [
    "frames = [regions_hot,train]\n",
    "result = pd.concat(frames, axis=1, sort=False)\n",
    "result.head"
   ]
  },
  {
   "cell_type": "code",
   "execution_count": 99,
   "metadata": {
    "ExecuteTime": {
     "end_time": "2018-10-19T15:13:23.166271Z",
     "start_time": "2018-10-19T15:13:23.162108Z"
    }
   },
   "outputs": [
    {
     "data": {
      "text/plain": [
       "Index(['North East', 'North West', 'Yorkshire and The Humber', 'East Midlands',\n",
       "       'West Midlands', 'East of England', 'London', 'South East', 'South Wes',\n",
       "       'Id', 'date', 'mortality_rate', 'O3', 'PM10', 'PM25', 'NO2', 'T2M'],\n",
       "      dtype='object')"
      ]
     },
     "execution_count": 99,
     "metadata": {},
     "output_type": "execute_result"
    }
   ],
   "source": [
    "result.columns"
   ]
  },
  {
   "cell_type": "code",
   "execution_count": 100,
   "metadata": {
    "ExecuteTime": {
     "end_time": "2018-10-19T15:14:57.482633Z",
     "start_time": "2018-10-19T15:14:57.478423Z"
    }
   },
   "outputs": [
    {
     "data": {
      "text/plain": [
       "(18403, 17)"
      ]
     },
     "execution_count": 100,
     "metadata": {},
     "output_type": "execute_result"
    }
   ],
   "source": [
    "result.shape"
   ]
  },
  {
   "cell_type": "code",
   "execution_count": 101,
   "metadata": {
    "ExecuteTime": {
     "end_time": "2018-10-19T15:15:40.064956Z",
     "start_time": "2018-10-19T15:15:40.031130Z"
    }
   },
   "outputs": [
    {
     "name": "stdout",
     "output_type": "stream",
     "text": [
      "Missing values: Result\n",
      "                          Total  Percent\n",
      "NO2                        6570    35.70\n",
      "PM25                       3276    17.80\n",
      "PM10                          9     0.05\n",
      "O3                            9     0.05\n",
      "T2M                           0     0.00\n",
      "East of England               0     0.00\n",
      "North West                    0     0.00\n",
      "Yorkshire and The Humber      0     0.00\n",
      "East Midlands                 0     0.00\n",
      "West Midlands                 0     0.00\n",
      "South Wes                     0     0.00\n",
      "London                        0     0.00\n",
      "South East                    0     0.00\n",
      "Id                            0     0.00\n",
      "date                          0     0.00\n",
      "mortality_rate                0     0.00\n",
      "North East                    0     0.00\n"
     ]
    }
   ],
   "source": [
    "missing_data(result, 'Result')"
   ]
  },
  {
   "cell_type": "code",
   "execution_count": null,
   "metadata": {},
   "outputs": [],
   "source": []
  },
  {
   "cell_type": "code",
   "execution_count": null,
   "metadata": {},
   "outputs": [],
   "source": []
  }
 ],
 "metadata": {
  "hide_input": false,
  "kernelspec": {
   "display_name": "Python 3",
   "language": "python",
   "name": "python3"
  },
  "language_info": {
   "codemirror_mode": {
    "name": "ipython",
    "version": 3
   },
   "file_extension": ".py",
   "mimetype": "text/x-python",
   "name": "python",
   "nbconvert_exporter": "python",
   "pygments_lexer": "ipython3",
   "version": "3.6.5"
  }
 },
 "nbformat": 4,
 "nbformat_minor": 2
}
